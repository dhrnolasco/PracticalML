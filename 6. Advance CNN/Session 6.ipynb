{
 "cells": [
  {
   "cell_type": "markdown",
   "metadata": {},
   "source": [
    "# Session 6\n",
    "\n",
    "Here we will address some advance topics related to Convolutional Neural Networks. Also, we will explore the use of an algorithm named \"YOLO\" to detect and extract multiple objects from a single image.\n",
    "\n",
    "## Learning Objectives:\n",
    "* Use pre-existing trained models \n",
    "* Visualize what the network learned\n",
    "* Techniques to accelerate your model training\n",
    "    * Data Augmentation\n",
    "    * Existing pre-trained model\n",
    "* (Bonus) Use YOLO: You Only ~~Live~~ Look Once"
   ]
  },
  {
   "cell_type": "markdown",
   "metadata": {},
   "source": [
    "## 1. Use Pre-Existing Trained Models\n",
    "\n",
    "\n",
    "<br>[Using Pre-trained Convnets](./Python/1.%20Convnets.ipynb)\n",
    "\n",
    "For more thourogh details about how visualization works, check this video by Matt Zeiler explaining it \n",
    "\n",
    "<br>[![IMAGE ALT TEXT HERE](https://img.youtube.com/vi/ghEmQSxT6tw/0.jpg)](https://www.youtube.com/watch?v=ghEmQSxT6tw)"
   ]
  },
  {
   "cell_type": "markdown",
   "metadata": {},
   "source": [
    "## 2. Visualize what the Network Learned"
   ]
  },
  {
   "cell_type": "markdown",
   "metadata": {},
   "source": [
    "## 3. Techniques to Accelerate Model Training (CNN)"
   ]
  },
  {
   "cell_type": "markdown",
   "metadata": {},
   "source": [
    "## (Bonus) Use YOLO"
   ]
  },
  {
   "cell_type": "code",
   "execution_count": null,
   "metadata": {},
   "outputs": [],
   "source": []
  }
 ],
 "metadata": {
  "kernelspec": {
   "display_name": "PML",
   "language": "python",
   "name": "pml"
  },
  "language_info": {
   "codemirror_mode": {
    "name": "ipython",
    "version": 3
   },
   "file_extension": ".py",
   "mimetype": "text/x-python",
   "name": "python",
   "nbconvert_exporter": "python",
   "pygments_lexer": "ipython3",
   "version": "3.5.6"
  }
 },
 "nbformat": 4,
 "nbformat_minor": 2
}
