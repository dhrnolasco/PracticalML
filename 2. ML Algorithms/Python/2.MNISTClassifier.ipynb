{
 "cells": [
  {
   "cell_type": "markdown",
   "metadata": {},
   "source": [
    "## Simple Hand Written Numbers Classifier\n",
    "\n",
    "Another classification example to recognize hand written numbers. Trained using MNIST dataset.\n",
    "\n",
    "After training the model, you can use Sample_Sketching sketch in Processing to write numbers and see the results here."
   ]
  },
  {
   "cell_type": "code",
   "execution_count": null,
   "metadata": {},
   "outputs": [],
   "source": [
    "#install a required library to use OSC protocol\n",
    "!pip install https://github.com/attwad/python-osc/archive/master.zip\n",
    "!pip install matplotlib"
   ]
  },
  {
   "cell_type": "code",
   "execution_count": 52,
   "metadata": {},
   "outputs": [],
   "source": [
    "#setup OSC Protocol to communicate with Processing\n",
    "import OSCHelper\n",
    "server=OSCHelper.createServer(9000)"
   ]
  },
  {
   "cell_type": "code",
   "execution_count": 35,
   "metadata": {},
   "outputs": [],
   "source": [
    "import tensorflow\n",
    "from tensorflow import keras\n",
    "from tensorflow.keras import layers\n",
    "from tensorflow.keras import models\n",
    "from tensorflow.keras import optimizers\n",
    "from tensorflow.keras.utils import plot_model\n",
    "\n",
    "def create_model(nbclasses,firstLayer,nlayers):\n",
    "    model=models.Sequential()\n",
    "    model.add(layers.Dense(firstLayer,activation='relu',input_shape=(784,)))\n",
    "    for l in nlayers:\n",
    "        model.add(layers.Dense(l,activation='relu'))\n",
    "    model.add(layers.Dense(nbclasses,activation='softmax'))\n",
    "    model.compile(optimizer='adam',loss='categorical_crossentropy',metrics=['accuracy'])\n",
    "    model.summary()\n",
    "    return model"
   ]
  },
  {
   "cell_type": "code",
   "execution_count": 33,
   "metadata": {},
   "outputs": [],
   "source": [
    "#setup training data. Here we using MNIST dataset for numbers\n",
    "# the training set is 28x28 input, and a number 0~9 as output\n",
    "\n",
    "from tensorflow.keras.datasets import mnist\n",
    "from tensorflow.keras import utils\n",
    "\n",
    "#load data\n",
    "(x_train, y_train), (x_test, y_test) = mnist.load_data()\n",
    "\n",
    "#scale training input from 0~255 -> 0~1 by dividing on 255 \n",
    "x_train=x_train/255.0\n",
    "x_test=x_test/255.0\n",
    "\n",
    "nb_classes=10\n",
    "\n",
    "#convert the input from 2D arrays to 1D arrays\n",
    "X_train = x_train.reshape(x_train.shape[0], 28*28)\n",
    "X_test = x_test.reshape(x_test.shape[0], 28*28)\n",
    "\n",
    "#convert numbers output to one-hot encoding\n",
    "Y_train = utils.to_categorical(y_train, nb_classes)\n",
    "Y_test = utils.to_categorical(y_test, nb_classes)"
   ]
  },
  {
   "cell_type": "code",
   "execution_count": null,
   "metadata": {},
   "outputs": [],
   "source": [
    "print(X_train.shape)"
   ]
  },
  {
   "cell_type": "code",
   "execution_count": null,
   "metadata": {},
   "outputs": [],
   "source": [
    "#plot an example image from the dataset\n",
    "%matplotlib inline\n",
    "import matplotlib.pyplot as plt\n",
    "\n",
    "index=10\n",
    "plt.imshow(x_train[index],cmap='gray')\n",
    "print(y_train[index])"
   ]
  },
  {
   "cell_type": "code",
   "execution_count": 49,
   "metadata": {
    "scrolled": true
   },
   "outputs": [
    {
     "name": "stdout",
     "output_type": "stream",
     "text": [
      "_________________________________________________________________\n",
      "Layer (type)                 Output Shape              Param #   \n",
      "=================================================================\n",
      "dense_21 (Dense)             (None, 64)                50240     \n",
      "_________________________________________________________________\n",
      "dense_22 (Dense)             (None, 64)                4160      \n",
      "_________________________________________________________________\n",
      "dense_23 (Dense)             (None, 32)                2080      \n",
      "_________________________________________________________________\n",
      "dense_24 (Dense)             (None, 16)                528       \n",
      "_________________________________________________________________\n",
      "dense_25 (Dense)             (None, 10)                170       \n",
      "=================================================================\n",
      "Total params: 57,178\n",
      "Trainable params: 57,178\n",
      "Non-trainable params: 0\n",
      "_________________________________________________________________\n",
      "Train on 60000 samples, validate on 10000 samples\n",
      "Epoch 1/10\n",
      "60000/60000 [==============================] - 2s 34us/step - loss: 0.4602 - acc: 0.8644 - val_loss: 0.1957 - val_acc: 0.9410\n",
      "Epoch 2/10\n",
      "60000/60000 [==============================] - 1s 24us/step - loss: 0.1682 - acc: 0.9507 - val_loss: 0.1617 - val_acc: 0.9508\n",
      "Epoch 3/10\n",
      "60000/60000 [==============================] - 1s 22us/step - loss: 0.1226 - acc: 0.9630 - val_loss: 0.1199 - val_acc: 0.9636\n",
      "Epoch 4/10\n",
      "60000/60000 [==============================] - 1s 20us/step - loss: 0.0995 - acc: 0.9699 - val_loss: 0.1120 - val_acc: 0.9662\n",
      "Epoch 5/10\n",
      "60000/60000 [==============================] - 1s 21us/step - loss: 0.0843 - acc: 0.9742 - val_loss: 0.1072 - val_acc: 0.9679\n",
      "Epoch 6/10\n",
      "60000/60000 [==============================] - 1s 25us/step - loss: 0.0715 - acc: 0.9780 - val_loss: 0.0949 - val_acc: 0.9706\n",
      "Epoch 7/10\n",
      "60000/60000 [==============================] - 1s 22us/step - loss: 0.0613 - acc: 0.9805 - val_loss: 0.1043 - val_acc: 0.9693\n",
      "Epoch 8/10\n",
      "60000/60000 [==============================] - 1s 22us/step - loss: 0.0537 - acc: 0.9829 - val_loss: 0.1001 - val_acc: 0.9722\n",
      "Epoch 9/10\n",
      "60000/60000 [==============================] - 1s 23us/step - loss: 0.0460 - acc: 0.9852 - val_loss: 0.0923 - val_acc: 0.9747\n",
      "Epoch 10/10\n",
      "60000/60000 [==============================] - 1s 25us/step - loss: 0.0413 - acc: 0.9871 - val_loss: 0.0917 - val_acc: 0.9749\n"
     ]
    }
   ],
   "source": [
    "TrainModel=True #Set to False to load pretrained model\n",
    "if TrainModel:\n",
    "    #Either train your own model\n",
    "    model=create_model(nb_classes,64,[64,32,16])\n",
    "    model.fit(X_train,Y_train,validation_data=(X_test,Y_test),epochs=10,batch_size=128)\n",
    "else:\n",
    "    #or just load a pretrained model (trained for model arch (64,[64,32,16]) with 97% accuracy)\n",
    "    model=create_model(nb_classes,64,[64,32,16]) #Don't change the layers\n",
    "    model.load_weights(\"model.h5\")"
   ]
  },
  {
   "cell_type": "code",
   "execution_count": 53,
   "metadata": {
    "scrolled": false
   },
   "outputs": [
    {
     "data": {
      "image/png": "[encoded data removed]",
      "text/plain": [
       "<Figure size 432x288 with 1 Axes>"
      ]
     },
     "metadata": {
      "needs_background": "light"
     },
     "output_type": "display_data"
    },
    {
     "data": {
      "image/png": "[encoded data removed]",
      "text/plain": [
       "<Figure size 432x288 with 1 Axes>"
      ]
     },
     "metadata": {
      "needs_background": "light"
     },
     "output_type": "display_data"
    },
    {
     "data": {
      "image/png": "[encoded data removed]",
      "text/plain": [
       "<Figure size 432x288 with 1 Axes>"
      ]
     },
     "metadata": {
      "needs_background": "light"
     },
     "output_type": "display_data"
    },
    {
     "data": {
      "image/png": "[encoded data removed]",
      "text/plain": [
       "<Figure size 432x288 with 1 Axes>"
      ]
     },
     "metadata": {
      "needs_background": "light"
     },
     "output_type": "display_data"
    }
   ],
   "source": [
    "import numpy as np\n",
    "\n",
    "def onOSC_Image(*args):\n",
    "    width=args[1]\n",
    "    height=args[2]\n",
    "    args=np.array(list(args[3])).astype(float)\n",
    "    args=args/255.0\n",
    "    img=np.reshape(args,(width,height))\n",
    "    x=np.reshape(img,(width*height))\n",
    "    res=model.predict(np.array([x]))\n",
    "    plt.imshow(img,cmap='gray')\n",
    "    plt.title(\"Prediction:{0}\".format(np.argmax(res)))\n",
    "    plt.show()\n",
    "\n",
    "server.addMsgHandler( \"/inputs/image\", onOSC_Image )\n",
    "\n",
    "OSCHelper.start_server(server)\n"
   ]
  },
  {
   "cell_type": "code",
   "execution_count": 54,
   "metadata": {},
   "outputs": [],
   "source": [
    "server.close()\n"
   ]
  },
  {
   "cell_type": "code",
   "execution_count": null,
   "metadata": {},
   "outputs": [],
   "source": []
  }
 ],
 "metadata": {
  "kernelspec": {
   "display_name": "PML",
   "language": "python",
   "name": "pml"
  },
  "language_info": {
   "codemirror_mode": {
    "name": "ipython",
    "version": 3
   },
   "file_extension": ".py",
   "mimetype": "text/x-python",
   "name": "python",
   "nbconvert_exporter": "python",
   "pygments_lexer": "ipython3",
   "version": "3.6.6"
  }
 },
 "nbformat": 4,
 "nbformat_minor": 2
}
