{
 "cells": [
  {
   "cell_type": "markdown",
   "metadata": {},
   "source": [
    "## Simple 2D Point Classifier\n",
    "This sample program shows how the classification work. It trains on set of 2D points that are assigned to one of three classes (0,1,2) received from Processing.\n",
    "\n",
    "It also shows the probability distribution for all 2D points.\n",
    "\n",
    "Use Sample_Classifier2D sketch in Processing."
   ]
  },
  {
   "cell_type": "code",
   "execution_count": null,
   "metadata": {
    "scrolled": true
   },
   "outputs": [],
   "source": [
    "#install a required library to use OSC protocol\n",
    "!pip install https://github.com/attwad/python-osc/archive/master.zip"
   ]
  },
  {
   "cell_type": "code",
   "execution_count": null,
   "metadata": {},
   "outputs": [],
   "source": [
    "#setup OSC Protocol to communicate with Processing\n",
    "import OSCHelper\n",
    "server=OSCHelper.createServer(9000)\n",
    "client=OSCHelper.createClient(4200)"
   ]
  },
  {
   "cell_type": "code",
   "execution_count": null,
   "metadata": {},
   "outputs": [],
   "source": [
    "import tensorflow\n",
    "from tensorflow import keras\n",
    "from tensorflow.keras import layers\n",
    "from tensorflow.keras.layers import Dense\n",
    "from tensorflow.keras import models\n",
    "from tensorflow.keras import optimizers\n",
    "from tensorflow.keras.utils import plot_model\n",
    "\n",
    "#function used to define model architecture\n",
    "#nbclasses: number of classes used to train\n",
    "#firstLayer: number of neurons used for the first layer\n",
    "#layers: array of neurons for the hidden layers (can be none using default [])\n",
    "def create_model(nbclasses,firstLayer,layers=[]):\n",
    "    model=models.Sequential()\n",
    "    model.add(Dense(firstLayer,activation='relu',input_shape=(2,)))\n",
    "    for l in layers:\n",
    "        model.add(Dense(l,activation='relu'))\n",
    "    model.add(Dense(nbclasses,activation='softmax'))\n",
    "    model.compile(optimizer='adam',loss='categorical_crossentropy',metrics=['accuracy'])\n",
    "    return model\n",
    "\n",
    "#this function will send model probabilities as an image to processing\n",
    "def SendProb(model):\n",
    "    _W=32\n",
    "    _H=32\n",
    "    for i in range(_W):\n",
    "        for j in range(_H):\n",
    "            X=float(i/float(_W))\n",
    "            Y=float(j/float(_H))\n",
    "            P=[X,Y]\n",
    "            res=model.predict(np.array([P]))\n",
    "            ret=[X,Y]\n",
    "            ret.extend(res[0].tolist())\n",
    "            client.send_message(\"/result\",ret)"
   ]
  },
  {
   "cell_type": "code",
   "execution_count": null,
   "metadata": {
    "scrolled": true
   },
   "outputs": [],
   "source": [
    "X_train=[]\n",
    "Y_train=[]\n",
    "\n",
    "def onOSC_Sample(*args):\n",
    "    #print(args)\n",
    "    X=args[1]\n",
    "    Y=args[2]\n",
    "    C=args[3]\n",
    "    \n",
    "    X_train.append([X,Y])\n",
    "    Y_train.append(C)\n",
    "    #print(\"new sample:{0},{1}:{2}\".format(X,Y,C))\n",
    "\n",
    "#setup custom handler for the new samples\n",
    "server.addMsgHandler( \"/inputs/sample\", onOSC_Sample )\n",
    "\n",
    "#run OSC server to listen for training samples\n",
    "OSCHelper.start_server(server)"
   ]
  },
  {
   "cell_type": "code",
   "execution_count": null,
   "metadata": {},
   "outputs": [],
   "source": [
    "import random\n",
    "import numpy as np\n",
    "from tensorflow.keras import utils\n",
    "\n",
    "#shuffle the captured samples\n",
    "samples=list(zip(X_train,Y_train))\n",
    "random.shuffle(samples)\n",
    "X_train[:],Y_train[:]=zip(*samples)\n",
    "\n",
    "nbclasses=3 #this model has three classes to recognize\n",
    "\n",
    "#convert labels from numbers to one-hot encoding for training\n",
    "#0 --> [1,0,0]\n",
    "#1 --> [0,1,0]\n",
    "#2 --> [0,0,1]\n",
    "y_train=utils.to_categorical(Y_train,num_classes=nbclasses)\n",
    "\n",
    "#create a model\n",
    "model=create_model(nbclasses,64,[32])\n",
    "histories=[]\n",
    "#train the model\n",
    "N=10\n",
    "for i in range(10):\n",
    "    print(\"Fitting:{0}/{1}\".format(i+1,N))\n",
    "    history=model.fit(np.array(X_train),np.array(y_train),epochs=100,batch_size=16,verbose=0) #run one training cycle with 100 epochs\n",
    "    histories.append(history.history)\n",
    "    SendProb(model) #send the new probablities"
   ]
  },
  {
   "cell_type": "code",
   "execution_count": null,
   "metadata": {
    "scrolled": false
   },
   "outputs": [],
   "source": [
    "#plot loss and accuracy of the model\n",
    "\n",
    "%matplotlib inline\n",
    "import matplotlib.pyplot as plt\n",
    "\n",
    "loss_val=[]\n",
    "acc_val=[]\n",
    "for h in histories:\n",
    "    loss_val.extend(list(h['loss']))\n",
    "    acc_val.extend(list(h['acc']))\n",
    "\n",
    "epochs_index=range(1,len(acc_val)+1)\n",
    "\n",
    "plt.plot(epochs_index,acc_val,'b',label='Accuracy')\n",
    "plt.plot(epochs_index,loss_val,'b',label='Loss')\n",
    "plt.xlabel(\"Epochs\")\n",
    "plt.legend()\n",
    "plt.show()\n"
   ]
  },
  {
   "cell_type": "code",
   "execution_count": null,
   "metadata": {},
   "outputs": [],
   "source": [
    "\n",
    "#used for recognizing new samples\n",
    "def onOSC_Input(*args):\n",
    "    X=args[1]\n",
    "    Y=args[2]\n",
    "    sample=[X,Y]\n",
    "    res=model.predict(np.array([sample]))\n",
    "    res=np.argmax(res)\n",
    "    client.send_message(\"/output/point\",[X,Y,res])\n",
    "server.addMsgHandler( \"/inputs/point\", onOSC_Input )\n",
    "OSCHelper.start_server(server)\n"
   ]
  },
  {
   "cell_type": "code",
   "execution_count": null,
   "metadata": {},
   "outputs": [],
   "source": [
    "server.close()"
   ]
  }
 ],
 "metadata": {
  "kernelspec": {
   "display_name": "PML",
   "language": "python",
   "name": "pml"
  },
  "language_info": {
   "codemirror_mode": {
    "name": "ipython",
    "version": 3
   },
   "file_extension": ".py",
   "mimetype": "text/x-python",
   "name": "python",
   "nbconvert_exporter": "python",
   "pygments_lexer": "ipython3",
   "version": "3.6.6"
  }
 },
 "nbformat": 4,
 "nbformat_minor": 2
}
