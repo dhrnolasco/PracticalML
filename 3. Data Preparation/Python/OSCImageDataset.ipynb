{
 "cells": [
  {
   "cell_type": "markdown",
   "metadata": {},
   "source": [
    "## Building a dataset using OSC\n",
    "\n",
    "Here you can use Processing to send images, and create a dataset"
   ]
  },
  {
   "cell_type": "code",
   "execution_count": null,
   "metadata": {},
   "outputs": [],
   "source": [
    "#install a required library to use OSC protocol\n",
    "!pip install https://github.com/attwad/python-osc/archive/master.zip\n",
    "!pip install matplotlib"
   ]
  },
  {
   "cell_type": "code",
   "execution_count": null,
   "metadata": {},
   "outputs": [],
   "source": [
    "\n",
    "#location where to store your dataset\n",
    "dataset_dir=\"datasets/actions/\"\n",
    "#labels of the dataset\n",
    "labels=[\"None\",\"Left\",\"Right\",\"Head\"]\n"
   ]
  },
  {
   "cell_type": "code",
   "execution_count": null,
   "metadata": {},
   "outputs": [],
   "source": [
    "import OSCHelper\n",
    "server=OSCHelper.createServer(9000)\n",
    "client=OSCHelper.createClient(4200)"
   ]
  },
  {
   "cell_type": "code",
   "execution_count": null,
   "metadata": {},
   "outputs": [],
   "source": [
    "\n",
    "%matplotlib inline\n",
    "import matplotlib.pyplot as plt\n",
    "import numpy as np\n",
    "#from scipy import misc\n",
    "import io\n",
    "from PIL import Image\n",
    "import os\n",
    "\n",
    "\n",
    "active_label=0\n",
    "img_idx=0\n",
    "    \n",
    "def make_dir(path):\n",
    "    if not os.path.exists(path):\n",
    "        os.makedirs(path)\n",
    "\n",
    "make_dir(dataset_dir)\n",
    "\n",
    "def onOSC_Image(*args):\n",
    "    print(\"image\")\n",
    "    \n",
    "    global active_label\n",
    "    global img_idx\n",
    "    if active_label>=len(labels):\n",
    "        return\n",
    "    \n",
    "    width=args[1]\n",
    "    height=args[2]\n",
    "    jpgdata=args[3]\n",
    "    file_jpgdata = io.BytesIO(jpgdata)\n",
    "    img = Image.open(file_jpgdata).convert(\"L\")\n",
    "    #img=img.convert(\"L\")\n",
    "    \n",
    "    img.save(os.path.join(dataset_dir,labels[active_label],\"img_{0}.jpg\".format(img_idx)))\n",
    "    img_idx=img_idx+1\n",
    "    \n",
    "    img=np.array(img)\n",
    "    #args=np.array()\n",
    "    #args=args/255.0\n",
    "    #img=np.reshape(args,(width,height))\n",
    "    #plt.imshow(img)\n",
    "    #plt.title(\"Showing image from: {0}x{1}\".format(width,height)) \n",
    "    #plt.show()\n",
    "\n",
    "def send_current_label():\n",
    "    client.send_message(\"/output/label\",[active_label,labels[active_label]])\n",
    "    \n",
    "def make_label_dir():\n",
    "    make_dir(os.path.join(dataset_dir,labels[active_label]))\n",
    "    \n",
    "def onOSC_Next_Image(*args):\n",
    "    print(\"next\")\n",
    "    global active_label\n",
    "    global img_idx\n",
    "    active_label=active_label+1\n",
    "    if active_label>=len(labels):\n",
    "        client.send_message(\"/output/done\")\n",
    "        return\n",
    "    img_idx=0\n",
    "    make_label_dir()\n",
    "    send_current_label()\n",
    "    \n",
    "    \n",
    "def onOSC_Reset_Image(*args):\n",
    "    print(\"reset\")\n",
    "    global active_label\n",
    "    global img_idx\n",
    "    active_label=0\n",
    "    img_idx=0\n",
    "    send_current_label()\n",
    "    \n",
    "server.addMsgHandler( \"/inputs/image\", onOSC_Image )\n",
    "server.addMsgHandler( \"/inputs/next\", onOSC_Next_Image )\n",
    "server.addMsgHandler( \"/inputs/reset\", onOSC_Reset_Image )\n"
   ]
  },
  {
   "cell_type": "code",
   "execution_count": null,
   "metadata": {
    "scrolled": true
   },
   "outputs": [],
   "source": [
    "make_label_dir()\n",
    "send_current_label()\n",
    "OSCHelper.start_server(server)\n"
   ]
  },
  {
   "cell_type": "code",
   "execution_count": null,
   "metadata": {},
   "outputs": [],
   "source": [
    "\n",
    "server.close()"
   ]
  },
  {
   "cell_type": "code",
   "execution_count": null,
   "metadata": {},
   "outputs": [],
   "source": []
  }
 ],
 "metadata": {
  "kernelspec": {
   "display_name": "PML",
   "language": "python",
   "name": "pml"
  },
  "language_info": {
   "codemirror_mode": {
    "name": "ipython",
    "version": 3
   },
   "file_extension": ".py",
   "mimetype": "text/x-python",
   "name": "python",
   "nbconvert_exporter": "python",
   "pygments_lexer": "ipython3",
   "version": "3.6.7"
  }
 },
 "nbformat": 4,
 "nbformat_minor": 2
}
