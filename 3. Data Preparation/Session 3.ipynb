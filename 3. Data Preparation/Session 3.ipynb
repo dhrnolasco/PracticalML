{
 "cells": [
  {
   "cell_type": "markdown",
   "metadata": {},
   "source": [
    "# Session 3: Data and Features \n",
    "\n",
    "This session cover an introduction of how to prepare data \n",
    "\n",
    "\n",
    "\n",
    "## OSC Template to Communicate with Wekinator:\n",
    "\n",
    "You can build your input/output applications using the following templates.\n",
    "<br>__Input__ [OSC Input](./Processing/Templates/OSC_InputTemplate/OSC_InputTemplate.pde): This template program will send input features to Wekinator\n",
    "<br>__Output__ [OSC Output](./Processing/Templates/OSC_OutputTemplate/OSC_OutputTemplate.pde): This template program receives output results from wekinator to control or visualize the results of the trained model/input features.\n",
    "\n",
    "\n",
    "## Feature Processing:\n",
    "\n",
    "Depending on your application, data needs to be processed accordingly to maximize the meaningful features used. \n",
    "\n",
    "Here two sample programs that prepare data for training:\n",
    "\n",
    "<br>__Audio__ [InputAudio](./Processing/InputAudio/InputAudio.pde): This program applies FFT on audio input signals and extracts a number of bands before sending them to training application. FFT helps to reduce the number of parameters that represents an audio signal, and thus reduces the number of input features used.\n",
    "\n",
    "<img src=\"Images/Audio.png\" alt=\"Audio FFT\" width=\"500\"/>\n",
    "\n",
    "<br> __Facial Features__ [InputFace](./Processing/InputFace/InputFace.pde): When dealing with face as input, its more efficient to only extract the face region of the image for training. Thus removing most of the background \"unnecessary\" part. This program applies a facial detector filter from __OpenCV library__ (needs to be installed from Sketch --> Import Library --> Add Library menu), resizes the detected face to smaller size, and then sends it to Wekinator for training.\n",
    "<img src=\"Images/face.png\" alt=\"Face Detector\" width=\"500\"/>\n",
    "\n",
    "\n",
    "## OSC Communication and Integration\n",
    "\n",
    "To visualize how to build an application using OSC as input control method, [FlappyBird](./Processing/FlappyBird/FlappyBird.pde) sample program receives a single output value from Wekinator to control the flying bird. This can be used with any input program, and was built using [OSC Output Template](./Processing/Templates/OSC_OutputTemplate/OSC_OutputTemplate.pde) program.\n",
    "\n",
    "<img src=\"Images/FlappyBird.png\" alt=\"FlappyBird\" width=\"300\"/>\n"
   ]
  },
  {
   "cell_type": "markdown",
   "metadata": {},
   "source": []
  },
  {
   "cell_type": "code",
   "execution_count": null,
   "metadata": {},
   "outputs": [],
   "source": []
  }
 ],
 "metadata": {
  "kernelspec": {
   "display_name": "Python 3",
   "language": "python",
   "name": "python3"
  },
  "language_info": {
   "codemirror_mode": {
    "name": "ipython",
    "version": 3
   },
   "file_extension": ".py",
   "mimetype": "text/x-python",
   "name": "python",
   "nbconvert_exporter": "python",
   "pygments_lexer": "ipython3",
   "version": "3.7.5"
  }
 },
 "nbformat": 4,
 "nbformat_minor": 2
}
