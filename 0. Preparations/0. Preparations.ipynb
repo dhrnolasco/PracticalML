{
 "cells": [
  {
   "cell_type": "markdown",
   "metadata": {},
   "source": [
    "# Session 0: PML Tools Overview\n",
    "\n",
    "This manual contains an overview of the tools we will use across PML course. \n",
    "\n",
    "## Github: \n",
    "Github (https://github.com/) is an opensource platform to share code, data, and almost any file, and its commonly used by developers to maintain their code. I will mainly use this platform to upload materials related to the PML course, and in order to make sure all students are capable to use it, this section will cover the basics of Github.\n",
    "\n",
    "First, to use github you don't need an account unless you want to start sharing your own materials or you want to modify other's materials. It is highly recommended to use it with your team members to manage your projects, and keep track of who did what.\n",
    "\n",
    "The materials of this class will be always uploaded to the following repository:\n",
    "https://github.com/mrayy/PracticalML\n",
    "\n",
    "I highly recommend you to hit \"Watch\" button in the upper right corner of the page in order to get notifications when new changes or new materials are added to this repository (You will need to create an account in this case).\n",
    "\n",
    "For managing your repository on your PC, you can use git tools, and most recommended is GitHub Desktop (https://desktop.github.com/) which is highly compatible with GitHub. After installing it, you can create new repositories and upload them to GitHub (after having an account), or downloading other's repositories using \"Clone Repository\" provided with the repository's URL. For example, you can download this repository to your pc using this URL: https://github.com/mrayy/PracticalML\n",
    "\n",
    "## Processing:\n",
    "Processing (https://processing.org/) is a commonly used tool by designers and creative artists due to its simplicity and ease to use, as well as due to its large libraries integrated into it. We will use this tool during the course to provide interactive contents and input to our learning algorithms. \n",
    "\n",
    "## Wekinator:\n",
    "Wekinator (http://www.wekinator.org/) is an opensource tool for ML, and is used due to its simplicity and ease to start with Machine Learning applications. It is used as mediator between your application and the ML model, and will receive the input and send back the output to your application.\n",
    "\n",
    "We will also use this tool initially to develop simple models and gesture recognition before we dive into more advance topics in ML. \n",
    "\n",
    "## Python:\n",
    "Recently, Python became one of the major programming languages by many developers and designers, and gained a lot of support and libraries to expand the intended functions of the developers. Machine Learning libraries and frameworks such as Tensorflow (https://www.tensorflow.org/), Keras (https://keras.io/), and many others are well integrated and supported for Python programming. We will use this language during the course to build up better understanding of how to develop highlevel ML models, and we will interface it with other applications to exchange data and inferences.\n",
    "\n",
    "To install it, use Anaconda Distribution (https://www.anaconda.com/download/) and make sure to use Python 3.7 version. While installing it, make sure to check \"Add to Path\", and if you using Windows, it is better to install it in folder such as \"C:\\Anaconda3\" instead of install it in the User's home folder.\n",
    "\n",
    "Anaconda is a data science platform and has large supports for uptodate libraries and hardware accelerated computations, which will make best use of the provided infrastructure. Also, it has a wide support by developers and industry.\n",
    "\n",
    "\n",
    "## Jupyter Notebook:\n",
    "Technically, Jupyter notebook is part of python and can be considered as an environment for running python code. One of the major advantages of using it compared with running python code directly is the modularity of the code, and troubleshooting it. Also, you can share the generated results of your code to others by saving the Jupyter Notebook file.\n",
    "\n",
    "To install it:\n",
    "- Windows Users: Run command line (Windows --> Run --> CMD) and enter:\n",
    "__<br>conda install jupyter__\n",
    "\n",
    " \n",
    "- Mac OS Users: Run Terminal (Spotlight --> Terminal) and enter:\n",
    "__<br>conda install jupyter__\n"
   ]
  },
  {
   "cell_type": "code",
   "execution_count": null,
   "metadata": {},
   "outputs": [],
   "source": []
  }
 ],
 "metadata": {
  "kernelspec": {
   "display_name": "TensorFlow-GPU",
   "language": "python",
   "name": "tf-gpu"
  },
  "language_info": {
   "codemirror_mode": {
    "name": "ipython",
    "version": 3
   },
   "file_extension": ".py",
   "mimetype": "text/x-python",
   "name": "python",
   "nbconvert_exporter": "python",
   "pygments_lexer": "ipython3",
   "version": "3.6.6"
  }
 },
 "nbformat": 4,
 "nbformat_minor": 2
}
