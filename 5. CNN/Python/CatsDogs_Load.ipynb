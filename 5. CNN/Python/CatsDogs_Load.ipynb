{
 "cells": [
  {
   "cell_type": "markdown",
   "metadata": {},
   "source": [
    "## Loading a pre-trained model\n",
    "\n",
    "Here we load a model that was previously trained and exported. \n",
    "<br>There are two files that defines the model:\n",
    "* __Model Architecture__: Which defines what are the layers that defines this model. Usually a text file, with extension such as \".yaml\"\n",
    "* __Layers Weights__: Contains the actual weights of the layers (W). This is the actual learnt model, and is loaded after the model is created from the architecture file. Weights file extension is \".h5\"."
   ]
  },
  {
   "cell_type": "code",
   "execution_count": 14,
   "metadata": {},
   "outputs": [
    {
     "name": "stdout",
     "output_type": "stream",
     "text": [
      "_________________________________________________________________\n",
      "Layer (type)                 Output Shape              Param #   \n",
      "=================================================================\n",
      "conv2d (Conv2D)              (None, 148, 148, 32)      320       \n",
      "_________________________________________________________________\n",
      "max_pooling2d (MaxPooling2D) (None, 74, 74, 32)        0         \n",
      "_________________________________________________________________\n",
      "dropout (Dropout)            (None, 74, 74, 32)        0         \n",
      "_________________________________________________________________\n",
      "conv2d_1 (Conv2D)            (None, 72, 72, 32)        9248      \n",
      "_________________________________________________________________\n",
      "max_pooling2d_1 (MaxPooling2 (None, 36, 36, 32)        0         \n",
      "_________________________________________________________________\n",
      "dropout_1 (Dropout)          (None, 36, 36, 32)        0         \n",
      "_________________________________________________________________\n",
      "conv2d_2 (Conv2D)            (None, 34, 34, 64)        18496     \n",
      "_________________________________________________________________\n",
      "max_pooling2d_2 (MaxPooling2 (None, 17, 17, 64)        0         \n",
      "_________________________________________________________________\n",
      "dropout_2 (Dropout)          (None, 17, 17, 64)        0         \n",
      "_________________________________________________________________\n",
      "conv2d_3 (Conv2D)            (None, 15, 15, 128)       73856     \n",
      "_________________________________________________________________\n",
      "max_pooling2d_3 (MaxPooling2 (None, 7, 7, 128)         0         \n",
      "_________________________________________________________________\n",
      "dropout_3 (Dropout)          (None, 7, 7, 128)         0         \n",
      "_________________________________________________________________\n",
      "conv2d_4 (Conv2D)            (None, 5, 5, 128)         147584    \n",
      "_________________________________________________________________\n",
      "max_pooling2d_4 (MaxPooling2 (None, 2, 2, 128)         0         \n",
      "_________________________________________________________________\n",
      "dropout_4 (Dropout)          (None, 2, 2, 128)         0         \n",
      "_________________________________________________________________\n",
      "flatten (Flatten)            (None, 512)               0         \n",
      "_________________________________________________________________\n",
      "dense (Dense)                (None, 128)               65664     \n",
      "_________________________________________________________________\n",
      "dense_1 (Dense)              (None, 2)                 258       \n",
      "=================================================================\n",
      "Total params: 315,426\n",
      "Trainable params: 315,426\n",
      "Non-trainable params: 0\n",
      "_________________________________________________________________\n"
     ]
    }
   ],
   "source": [
    "import PML \n",
    "\n",
    "#load the previously trained model\n",
    "model=PML.import_model(\"models/catsdogs\")\n",
    "model.summary()"
   ]
  },
  {
   "cell_type": "markdown",
   "metadata": {},
   "source": [
    "Here we load some test data, and check their evaluation:"
   ]
  },
  {
   "cell_type": "code",
   "execution_count": 16,
   "metadata": {
    "scrolled": false
   },
   "outputs": [
    {
     "name": "stdout",
     "output_type": "stream",
     "text": [
      "0- [dogs] with total of 1012 samples\n",
      "1- [cats] with total of 1011 samples\n",
      "Accuracy for [dogs] is 84%\n",
      "Accuracy for [cats] is 89%\n"
     ]
    },
    {
     "data": {
      "text/plain": [
       "(array([163., 116.]), array([1012., 1011.]))"
      ]
     },
     "execution_count": 16,
     "metadata": {},
     "output_type": "execute_result"
    }
   ],
   "source": [
    "\n",
    "TARGET_WIDTH=150\n",
    "TARGET_HEIGHT=150\n",
    "nb_classes=2\n",
    "\n",
    "test=PML.load_img_dataset_from_folder(\"test/catsdogs/\",target_size=(TARGET_WIDTH,TARGET_HEIGHT))\n",
    "labels=['cats','dogs']\n",
    "norm=PML.Normalizer01(0,255)\n",
    "PML.test_samples(model,test[0],test[1],labels,norm,False)"
   ]
  },
  {
   "cell_type": "code",
   "execution_count": 10,
   "metadata": {},
   "outputs": [
    {
     "name": "stdout",
     "output_type": "stream",
     "text": [
      "Starting server on: 131.113.137.195:9000\n"
     ]
    }
   ],
   "source": [
    "#setup OSC Protocol to communicate with Processing\n",
    "import OSCHelper\n",
    "server=OSCHelper.createServer(9000)\n",
    "client=OSCHelper.createClient(4200)"
   ]
  },
  {
   "cell_type": "code",
   "execution_count": null,
   "metadata": {
    "scrolled": true
   },
   "outputs": [],
   "source": [
    "import numpy as np\n",
    "import io\n",
    "from PIL import Image\n",
    "\n",
    "def onOSC_Image(*args):\n",
    "    print(args[0])\n",
    "    width=args[1]\n",
    "    height=args[2]\n",
    "    jpgdata=args[3]\n",
    "    file_jpgdata = io.BytesIO(jpgdata)\n",
    "    img = Image.open(file_jpgdata).resize((TARGET_WIDTH,TARGET_HEIGHT)).convert(\"L\")\n",
    "    img=np.array(img).astype(float)\n",
    "    img=img/255.0\n",
    "    x=PML.prepare_conv_samples([img])[0]\n",
    "    res=model.predict(np.array([x]))\n",
    "    label_idx=np.argmax(res)\n",
    "    client.send_message(\"/output/label\",[int(label_idx),str(labels[label_idx])])\n",
    "    print(labels[label_idx])\n",
    "\n",
    "server.addMsgHandler( \"/inputs/image\", onOSC_Image )\n",
    "\n",
    "OSCHelper.start_server(server)\n"
   ]
  },
  {
   "cell_type": "code",
   "execution_count": 12,
   "metadata": {},
   "outputs": [],
   "source": [
    "server.stop()"
   ]
  },
  {
   "cell_type": "code",
   "execution_count": null,
   "metadata": {},
   "outputs": [],
   "source": []
  }
 ],
 "metadata": {
  "kernelspec": {
   "display_name": "PML",
   "language": "python",
   "name": "pml"
  },
  "language_info": {
   "codemirror_mode": {
    "name": "ipython",
    "version": 3
   },
   "file_extension": ".py",
   "mimetype": "text/x-python",
   "name": "python",
   "nbconvert_exporter": "python",
   "pygments_lexer": "ipython3",
   "version": "3.6.7"
  }
 },
 "nbformat": 4,
 "nbformat_minor": 2
}
