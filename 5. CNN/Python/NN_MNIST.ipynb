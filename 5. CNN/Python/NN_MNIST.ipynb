{
 "cells": [
  {
   "cell_type": "markdown",
   "metadata": {},
   "source": [
    "## Hand Written Numbers Classifier using classical Neural Networks\n",
    "\n",
    "Another classification example to recognize hand written numbers. Trained using MNIST dataset.\n",
    "\n",
    "After training the model, you can use Sample_Sketching sketch in Processing to write numbers and see the results here."
   ]
  },
  {
   "cell_type": "code",
   "execution_count": null,
   "metadata": {},
   "outputs": [],
   "source": [
    "#install a required library to use OSC protocol\n",
    "!pip install https://github.com/attwad/python-osc/archive/master.zip\n",
    "!pip install matplotlib"
   ]
  },
  {
   "cell_type": "code",
   "execution_count": 2,
   "metadata": {},
   "outputs": [],
   "source": [
    "#setup training data. Here we using MNIST dataset for numbers\n",
    "# the training set is 28x28 input, and a number 0~9 as output\n",
    "\n",
    "from tensorflow.keras.datasets import mnist\n",
    "from tensorflow.keras import utils\n",
    "import numpy as np\n",
    "import PML\n",
    "\n",
    "#load data\n",
    "Train, Test = mnist.load_data()\n",
    "samples=list(zip(Train[0],Train[1]))\n",
    "sample_test=list(zip(Test[0],Test[1]))\n",
    "\n",
    "#Split to input X and labels Y\n",
    "X=np.array([i[0] for i in samples])\n",
    "Y=np.array([i[1] for i in samples])\n",
    " \n",
    "#Prepared to neural network samples (1D samples)\n",
    "X_conv=PML.prepare_flatten_samples(X)\n",
    "#normalize values\n",
    "x_train,normalizer=PML.normalize_image(X_conv)\n",
    "nb_classes=10\n",
    "\n",
    "#convert numbers output to one-hot encoding\n",
    "y_train = utils.to_categorical(Train[1], nb_classes)\n",
    "y_test = utils.to_categorical(Test[1], nb_classes)"
   ]
  },
  {
   "cell_type": "code",
   "execution_count": 3,
   "metadata": {},
   "outputs": [
    {
     "data": {
      "image/png": "[encoded data removed]",
      "text/plain": [
       "<Figure size 720x432 with 15 Axes>"
      ]
     },
     "metadata": {
      "needs_background": "light"
     },
     "output_type": "display_data"
    }
   ],
   "source": [
    "PML.plot_random_images(samples,labels=[0,1,2,3,4,5,6,7,8,9],rows=3,cols=5)"
   ]
  },
  {
   "cell_type": "code",
   "execution_count": 4,
   "metadata": {},
   "outputs": [
    {
     "name": "stdout",
     "output_type": "stream",
     "text": [
      "Training using: 54000 samples\n",
      "Validating using: 6000 samples\n"
     ]
    }
   ],
   "source": [
    "from sklearn.model_selection import train_test_split\n",
    "\n",
    "X_train,X_test,Y_train,Y_test=train_test_split(x_train,y_train,test_size=0.1)\n",
    "\n",
    "print(\"Training using: {0} samples\".format(len(X_train)))\n",
    "print(\"Validating using: {0} samples\".format(len(X_test)))"
   ]
  },
  {
   "cell_type": "code",
   "execution_count": 5,
   "metadata": {
    "scrolled": false
   },
   "outputs": [
    {
     "name": "stdout",
     "output_type": "stream",
     "text": [
      "_________________________________________________________________\n",
      "Layer (type)                 Output Shape              Param #   \n",
      "=================================================================\n",
      "dense (Dense)                (None, 32)                25120     \n",
      "_________________________________________________________________\n",
      "dense_1 (Dense)              (None, 64)                2112      \n",
      "_________________________________________________________________\n",
      "dense_2 (Dense)              (None, 10)                650       \n",
      "=================================================================\n",
      "Total params: 27,882\n",
      "Trainable params: 27,882\n",
      "Non-trainable params: 0\n",
      "_________________________________________________________________\n",
      "Train on 54000 samples, validate on 6000 samples\n",
      "Epoch 1/10\n",
      "54000/54000 [==============================] - 1s 23us/step - loss: 0.4883 - acc: 0.8609 - val_loss: 0.2835 - val_acc: 0.9185\n",
      "Epoch 2/10\n",
      "54000/54000 [==============================] - 1s 15us/step - loss: 0.2300 - acc: 0.9344 - val_loss: 0.2135 - val_acc: 0.9377\n",
      "Epoch 3/10\n",
      "54000/54000 [==============================] - 1s 16us/step - loss: 0.1801 - acc: 0.9479 - val_loss: 0.1841 - val_acc: 0.9475\n",
      "Epoch 4/10\n",
      "54000/54000 [==============================] - 1s 16us/step - loss: 0.1515 - acc: 0.9559 - val_loss: 0.1676 - val_acc: 0.9510\n",
      "Epoch 5/10\n",
      "54000/54000 [==============================] - 1s 17us/step - loss: 0.1308 - acc: 0.9620 - val_loss: 0.1536 - val_acc: 0.9533\n",
      "Epoch 6/10\n",
      "54000/54000 [==============================] - 1s 15us/step - loss: 0.1158 - acc: 0.9660 - val_loss: 0.1453 - val_acc: 0.9563\n",
      "Epoch 7/10\n",
      "54000/54000 [==============================] - 1s 17us/step - loss: 0.1031 - acc: 0.9698 - val_loss: 0.1453 - val_acc: 0.9555\n",
      "Epoch 8/10\n",
      "54000/54000 [==============================] - 1s 20us/step - loss: 0.0940 - acc: 0.9718 - val_loss: 0.1371 - val_acc: 0.9595\n",
      "Epoch 9/10\n",
      "54000/54000 [==============================] - 1s 19us/step - loss: 0.0859 - acc: 0.9743 - val_loss: 0.1363 - val_acc: 0.9602\n",
      "Epoch 10/10\n",
      "54000/54000 [==============================] - 1s 21us/step - loss: 0.0788 - acc: 0.9754 - val_loss: 0.1355 - val_acc: 0.9598\n"
     ]
    }
   ],
   "source": [
    "\n",
    "from tensorflow.keras.callbacks import TensorBoard\n",
    "from time import time\n",
    "\n",
    "tensorboard = TensorBoard(log_dir=\"logs/MNIST_{}\".format(time()))\n",
    "\n",
    "TrainModel=True #Set to False to load pretrained model\n",
    "\n",
    "\n",
    "model=PML.create_classify_model(28*28,nb_classes,32,[64],dropout=0)\n",
    "history=model.fit(X_train,Y_train,validation_data=(X_test,Y_test),epochs=10,batch_size=128, callbacks=[tensorboard])\n"
   ]
  },
  {
   "cell_type": "code",
   "execution_count": 6,
   "metadata": {},
   "outputs": [
    {
     "data": {
      "image/png": "[encoded data removed]",
      "text/plain": [
       "<Figure size 432x288 with 1 Axes>"
      ]
     },
     "metadata": {
      "needs_background": "light"
     },
     "output_type": "display_data"
    },
    {
     "data": {
      "image/png": "[encoded data removed]",
      "text/plain": [
       "<Figure size 432x288 with 1 Axes>"
      ]
     },
     "metadata": {
      "needs_background": "light"
     },
     "output_type": "display_data"
    }
   ],
   "source": [
    "PML.plot_acc_loss(history)"
   ]
  },
  {
   "cell_type": "code",
   "execution_count": 8,
   "metadata": {},
   "outputs": [
    {
     "name": "stdout",
     "output_type": "stream",
     "text": [
      "Accuracy for [0] is 99%\n",
      "Accuracy for [1] is 99%\n",
      "Accuracy for [2] is 94%\n",
      "Accuracy for [3] is 97%\n",
      "Accuracy for [4] is 99%\n",
      "Accuracy for [5] is 97%\n",
      "Accuracy for [6] is 97%\n",
      "Accuracy for [7] is 98%\n",
      "Accuracy for [8] is 96%\n",
      "Accuracy for [9] is 92%\n"
     ]
    }
   ],
   "source": [
    "labels=[0,1,2,3,4,5,6,7,8,9]\n",
    "_=PML.test_samples(model,samples=sample_test,labels=labels,trainlabels=labels,normalizer=normalizer,flatten=True)"
   ]
  },
  {
   "cell_type": "code",
   "execution_count": 46,
   "metadata": {},
   "outputs": [],
   "source": [
    "#setup OSC Protocol to communicate with Processing\n",
    "import OSCHelper\n",
    "server=OSCHelper.createServer(9000)"
   ]
  },
  {
   "cell_type": "code",
   "execution_count": 47,
   "metadata": {
    "scrolled": false
   },
   "outputs": [
    {
     "name": "stdout",
     "output_type": "stream",
     "text": [
      "[0]:0%\n",
      "[1]:0%\n",
      "[2]:2%\n",
      "[3]:0%\n",
      "[4]:0%\n",
      "[5]:0%\n",
      "[6]:0%\n",
      "[7]:95%\n",
      "[8]:0%\n",
      "[9]:0%\n"
     ]
    },
    {
     "data": {
      "image/png": "[encoded data removed]",
      "text/plain": [
       "<Figure size 432x288 with 1 Axes>"
      ]
     },
     "metadata": {
      "needs_background": "light"
     },
     "output_type": "display_data"
    },
    {
     "name": "stdout",
     "output_type": "stream",
     "text": [
      "[0]:1%\n",
      "[1]:1%\n",
      "[2]:54%\n",
      "[3]:33%\n",
      "[4]:0%\n",
      "[5]:0%\n",
      "[6]:0%\n",
      "[7]:5%\n",
      "[8]:1%\n",
      "[9]:0%\n"
     ]
    },
    {
     "data": {
      "image/png": "[encoded data removed]",
      "text/plain": [
       "<Figure size 432x288 with 1 Axes>"
      ]
     },
     "metadata": {
      "needs_background": "light"
     },
     "output_type": "display_data"
    }
   ],
   "source": [
    "import numpy as np\n",
    "import io\n",
    "import matplotlib.pyplot as plt\n",
    "%matplotlib inline\n",
    "from PIL import Image\n",
    "\n",
    "\n",
    "def onOSC_Image(*args):\n",
    "    width=args[1]\n",
    "    height=args[2]\n",
    "    jpgdata=args[3]\n",
    "    file_jpgdata = io.BytesIO(jpgdata)\n",
    "    img = Image.open(file_jpgdata).resize((28,28)).convert(\"L\")\n",
    "    img=255.0-np.array(img).astype(float)\n",
    "    x=PML.flatten_samples([normalizer.Normalize(img)])[0]\n",
    "    plt.imshow(np.resize(x,(28,28)),cmap='gray')\n",
    "    res=model.predict(np.array([x]))[0]\n",
    "    for i,p in enumerate(res):\n",
    "        print(\"[{0}]:{1}%\".format(i,int(p*100)))\n",
    "    plt.title(\"Prediction:{0}\".format(np.argmax(res)))\n",
    "    plt.show()\n",
    "\n",
    "server.addMsgHandler( \"/inputs/image\", onOSC_Image )\n",
    "\n",
    "OSCHelper.start_server(server)\n"
   ]
  },
  {
   "cell_type": "code",
   "execution_count": 48,
   "metadata": {},
   "outputs": [],
   "source": [
    "server.close()\n"
   ]
  },
  {
   "cell_type": "code",
   "execution_count": null,
   "metadata": {},
   "outputs": [],
   "source": []
  }
 ],
 "metadata": {
  "kernelspec": {
   "display_name": "PML",
   "language": "python",
   "name": "pml"
  },
  "language_info": {
   "codemirror_mode": {
    "name": "ipython",
    "version": 3
   },
   "file_extension": ".py",
   "mimetype": "text/x-python",
   "name": "python",
   "nbconvert_exporter": "python",
   "pygments_lexer": "ipython3",
   "version": "3.6.7"
  }
 },
 "nbformat": 4,
 "nbformat_minor": 2
}
