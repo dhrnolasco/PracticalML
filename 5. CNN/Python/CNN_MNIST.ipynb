{
 "cells": [
  {
   "cell_type": "markdown",
   "metadata": {},
   "source": [
    "## Hand Written Numbers Classifier using Convolutional Neural Networks (CNN)\n",
    "\n",
    "Another classification example to recognize hand written numbers. Trained using MNIST dataset.\n",
    "\n",
    "After training the model, you can use Sample_Sketching sketch in Processing to write numbers and see the results here."
   ]
  },
  {
   "cell_type": "code",
   "execution_count": null,
   "metadata": {},
   "outputs": [],
   "source": [
    "#install a required library to use OSC protocol\n",
    "!pip install https://github.com/attwad/python-osc/archive/master.zip\n",
    "!pip install matplotlib"
   ]
  },
  {
   "cell_type": "code",
   "execution_count": 2,
   "metadata": {},
   "outputs": [],
   "source": [
    "#setup training data. Here we using MNIST dataset for numbers\n",
    "# the training set is 28x28 input, and a number 0~9 as output\n",
    "\n",
    "from tensorflow.keras.datasets import mnist\n",
    "from tensorflow.keras import utils\n",
    "import numpy as np\n",
    "import PML\n",
    "\n",
    "#load data\n",
    "Train, Test = mnist.load_data()\n",
    "samples=list(zip(Train[0],Train[1]))\n",
    "sample_test=list(zip(Test[0],Test[1]))\n",
    "\n",
    "#Split to input X and labels Y\n",
    "X=np.array([i[0] for i in samples])\n",
    "Y=np.array([i[1] for i in samples])\n",
    " \n",
    "#Prepared to convolutional samples (3 channels per sample)\n",
    "X,normalizer=PML.normalize_image(X)\n",
    "x_train=PML.prepare_conv_samples(X)\n",
    "#normalize values\n",
    "nb_classes=10\n",
    "\n",
    "#convert numbers output to one-hot encoding\n",
    "y_train = utils.to_categorical(Train[1], nb_classes)\n",
    "y_test = utils.to_categorical(Test[1], nb_classes)"
   ]
  },
  {
   "cell_type": "code",
   "execution_count": 3,
   "metadata": {},
   "outputs": [
    {
     "data": {
      "image/png": "[encoded data removed]",
      "text/plain": [
       "<Figure size 720x432 with 15 Axes>"
      ]
     },
     "metadata": {
      "needs_background": "light"
     },
     "output_type": "display_data"
    }
   ],
   "source": [
    "PML.plot_random_images(samples,labels=[0,1,2,3,4,5,6,7,8,9],rows=3,cols=5)"
   ]
  },
  {
   "cell_type": "code",
   "execution_count": 4,
   "metadata": {},
   "outputs": [
    {
     "name": "stdout",
     "output_type": "stream",
     "text": [
      "Training using: 54000 samples\n",
      "Validating using: 6000 samples\n"
     ]
    }
   ],
   "source": [
    "from sklearn.model_selection import train_test_split\n",
    "\n",
    "X_train,X_test,Y_train,Y_test=train_test_split(x_train,y_train,test_size=0.1)\n",
    "\n",
    "print(\"Training using: {0} samples\".format(len(X_train)))\n",
    "print(\"Validating using: {0} samples\".format(len(X_test)))"
   ]
  },
  {
   "cell_type": "code",
   "execution_count": 8,
   "metadata": {
    "scrolled": true
   },
   "outputs": [
    {
     "name": "stdout",
     "output_type": "stream",
     "text": [
      "_________________________________________________________________\n",
      "Layer (type)                 Output Shape              Param #   \n",
      "=================================================================\n",
      "conv2d_7 (Conv2D)            (None, 26, 26, 32)        320       \n",
      "_________________________________________________________________\n",
      "max_pooling2d_6 (MaxPooling2 (None, 13, 13, 32)        0         \n",
      "_________________________________________________________________\n",
      "conv2d_8 (Conv2D)            (None, 11, 11, 64)        18496     \n",
      "_________________________________________________________________\n",
      "max_pooling2d_7 (MaxPooling2 (None, 5, 5, 64)          0         \n",
      "_________________________________________________________________\n",
      "conv2d_9 (Conv2D)            (None, 3, 3, 128)         73856     \n",
      "_________________________________________________________________\n",
      "max_pooling2d_8 (MaxPooling2 (None, 1, 1, 128)         0         \n",
      "_________________________________________________________________\n",
      "flatten_1 (Flatten)          (None, 128)               0         \n",
      "_________________________________________________________________\n",
      "dense_2 (Dense)              (None, 64)                8256      \n",
      "_________________________________________________________________\n",
      "dense_3 (Dense)              (None, 10)                650       \n",
      "=================================================================\n",
      "Total params: 101,578\n",
      "Trainable params: 101,578\n",
      "Non-trainable params: 0\n",
      "_________________________________________________________________\n",
      "Train on 54000 samples, validate on 6000 samples\n",
      "Epoch 1/20\n",
      "54000/54000 [==============================] - 42s 773us/step - loss: 0.6815 - acc: 0.7941 - val_loss: 0.2286 - val_acc: 0.9263\n",
      "Epoch 2/20\n",
      "54000/54000 [==============================] - 38s 713us/step - loss: 0.1682 - acc: 0.9485 - val_loss: 0.1479 - val_acc: 0.9513\n",
      "Epoch 3/20\n",
      "54000/54000 [==============================] - 40s 744us/step - loss: 0.1191 - acc: 0.9635 - val_loss: 0.1048 - val_acc: 0.9688\n",
      "Epoch 4/20\n",
      "54000/54000 [==============================] - 40s 748us/step - loss: 0.0910 - acc: 0.9724 - val_loss: 0.1138 - val_acc: 0.9672\n",
      "Epoch 5/20\n",
      "54000/54000 [==============================] - 37s 677us/step - loss: 0.0767 - acc: 0.9767 - val_loss: 0.0937 - val_acc: 0.9740\n",
      "Epoch 6/20\n",
      "54000/54000 [==============================] - 40s 739us/step - loss: 0.0651 - acc: 0.9800 - val_loss: 0.0821 - val_acc: 0.9755\n",
      "Epoch 7/20\n",
      "54000/54000 [==============================] - 38s 700us/step - loss: 0.0620 - acc: 0.9809 - val_loss: 0.0886 - val_acc: 0.9745\n",
      "Epoch 8/20\n",
      "54000/54000 [==============================] - 38s 695us/step - loss: 0.0562 - acc: 0.9826 - val_loss: 0.0718 - val_acc: 0.9792\n",
      "Epoch 9/20\n",
      "54000/54000 [==============================] - 36s 667us/step - loss: 0.0479 - acc: 0.9847 - val_loss: 0.0670 - val_acc: 0.9813\n",
      "Epoch 10/20\n",
      "54000/54000 [==============================] - 42s 779us/step - loss: 0.0398 - acc: 0.9871 - val_loss: 0.0652 - val_acc: 0.9812\n",
      "Epoch 11/20\n",
      "54000/54000 [==============================] - 43s 793us/step - loss: 0.0383 - acc: 0.9876 - val_loss: 0.0657 - val_acc: 0.9827\n",
      "Epoch 12/20\n",
      "54000/54000 [==============================] - 37s 687us/step - loss: 0.0327 - acc: 0.9896 - val_loss: 0.0622 - val_acc: 0.9840\n",
      "Epoch 13/20\n",
      "54000/54000 [==============================] - 34s 636us/step - loss: 0.0344 - acc: 0.9891 - val_loss: 0.0743 - val_acc: 0.9780\n",
      "Epoch 14/20\n",
      "54000/54000 [==============================] - 34s 629us/step - loss: 0.0326 - acc: 0.9899 - val_loss: 0.0642 - val_acc: 0.9823\n",
      "Epoch 15/20\n",
      "54000/54000 [==============================] - 37s 691us/step - loss: 0.0269 - acc: 0.9914 - val_loss: 0.0659 - val_acc: 0.9818\n",
      "Epoch 16/20\n",
      "54000/54000 [==============================] - 36s 666us/step - loss: 0.0263 - acc: 0.9914 - val_loss: 0.0629 - val_acc: 0.9837\n",
      "Epoch 17/20\n",
      "54000/54000 [==============================] - 36s 668us/step - loss: 0.0268 - acc: 0.9911 - val_loss: 0.0660 - val_acc: 0.9832\n",
      "Epoch 18/20\n",
      "54000/54000 [==============================] - 34s 632us/step - loss: 0.0205 - acc: 0.9936 - val_loss: 0.0631 - val_acc: 0.9833\n",
      "Epoch 19/20\n",
      "54000/54000 [==============================] - 34s 636us/step - loss: 0.0167 - acc: 0.9947 - val_loss: 0.0621 - val_acc: 0.9852\n",
      "Epoch 20/20\n",
      "54000/54000 [==============================] - 38s 698us/step - loss: 0.0155 - acc: 0.9953 - val_loss: 0.0636 - val_acc: 0.9855\n"
     ]
    }
   ],
   "source": [
    "\n",
    "from tensorflow.keras.callbacks import TensorBoard\n",
    "from time import time\n",
    "\n",
    "tensorboard = TensorBoard(log_dir=\"logs/MNIST_{}\".format(time()))\n",
    "\n",
    "TrainModel=True #Set to False to load pretrained model\n",
    "\n",
    "\n",
    "model=PML.create_conv_classify_model(input_shape=(28,28,1),nbclasses=nb_classes,firstLayer=32,nlayers=[64,128],denseLayers=[64],dropout=0)\n",
    "history=model.fit(X_train,Y_train,validation_data=(X_test,Y_test),epochs=20,batch_size=512, callbacks=[tensorboard])\n"
   ]
  },
  {
   "cell_type": "code",
   "execution_count": 9,
   "metadata": {
    "scrolled": false
   },
   "outputs": [
    {
     "data": {
      "image/png": "[encoded data removed]",
      "text/plain": [
       "<Figure size 432x288 with 1 Axes>"
      ]
     },
     "metadata": {
      "needs_background": "light"
     },
     "output_type": "display_data"
    },
    {
     "data": {
      "image/png": "[encoded data removed]",
      "text/plain": [
       "<Figure size 432x288 with 1 Axes>"
      ]
     },
     "metadata": {
      "needs_background": "light"
     },
     "output_type": "display_data"
    }
   ],
   "source": [
    "PML.plot_acc_loss(history)"
   ]
  },
  {
   "cell_type": "code",
   "execution_count": 11,
   "metadata": {},
   "outputs": [
    {
     "name": "stdout",
     "output_type": "stream",
     "text": [
      "Accuracy for [0] is 99%\n",
      "Accuracy for [1] is 100%\n",
      "Accuracy for [2] is 99%\n",
      "Accuracy for [3] is 100%\n",
      "Accuracy for [4] is 100%\n",
      "Accuracy for [5] is 99%\n",
      "Accuracy for [6] is 99%\n",
      "Accuracy for [7] is 99%\n",
      "Accuracy for [8] is 99%\n",
      "Accuracy for [9] is 99%\n"
     ]
    }
   ],
   "source": [
    "train_labels=[0,1,2,3,4,5,6,7,8,9]\n",
    "\n",
    "_=PML.test_samples(model,samples=sample_test,labels=train_labels,trainlabels=train_labels,normalizer=normalizer,flatten=False)"
   ]
  },
  {
   "cell_type": "code",
   "execution_count": 38,
   "metadata": {},
   "outputs": [],
   "source": [
    "#setup OSC Protocol to communicate with Processing\n",
    "import OSCHelper\n",
    "server=OSCHelper.createServer(9000)"
   ]
  },
  {
   "cell_type": "code",
   "execution_count": 39,
   "metadata": {
    "scrolled": false
   },
   "outputs": [
    {
     "name": "stdout",
     "output_type": "stream",
     "text": [
      "[0]:0%\n",
      "[1]:0%\n",
      "[2]:0%\n",
      "[3]:0%\n",
      "[4]:7%\n",
      "[5]:0%\n",
      "[6]:88%\n",
      "[7]:2%\n",
      "[8]:0%\n",
      "[9]:0%\n"
     ]
    },
    {
     "data": {
      "image/png": "[encoded data removed]",
      "text/plain": [
       "<Figure size 432x288 with 1 Axes>"
      ]
     },
     "metadata": {
      "needs_background": "light"
     },
     "output_type": "display_data"
    },
    {
     "name": "stdout",
     "output_type": "stream",
     "text": [
      "[0]:0%\n",
      "[1]:0%\n",
      "[2]:99%\n",
      "[3]:0%\n",
      "[4]:0%\n",
      "[5]:0%\n",
      "[6]:0%\n",
      "[7]:0%\n",
      "[8]:0%\n",
      "[9]:0%\n"
     ]
    },
    {
     "data": {
      "image/png": "[encoded data removed]",
      "text/plain": [
       "<Figure size 432x288 with 1 Axes>"
      ]
     },
     "metadata": {
      "needs_background": "light"
     },
     "output_type": "display_data"
    },
    {
     "name": "stdout",
     "output_type": "stream",
     "text": [
      "[0]:2%\n",
      "[1]:0%\n",
      "[2]:0%\n",
      "[3]:0%\n",
      "[4]:0%\n",
      "[5]:0%\n",
      "[6]:0%\n",
      "[7]:96%\n",
      "[8]:0%\n",
      "[9]:0%\n"
     ]
    },
    {
     "data": {
      "image/png": "[encoded data removed]",
      "text/plain": [
       "<Figure size 432x288 with 1 Axes>"
      ]
     },
     "metadata": {
      "needs_background": "light"
     },
     "output_type": "display_data"
    },
    {
     "name": "stdout",
     "output_type": "stream",
     "text": [
      "[0]:0%\n",
      "[1]:0%\n",
      "[2]:0%\n",
      "[3]:0%\n",
      "[4]:97%\n",
      "[5]:2%\n",
      "[6]:0%\n",
      "[7]:0%\n",
      "[8]:0%\n",
      "[9]:0%\n"
     ]
    },
    {
     "data": {
      "image/png": "[encoded data removed]",
      "text/plain": [
       "<Figure size 432x288 with 1 Axes>"
      ]
     },
     "metadata": {
      "needs_background": "light"
     },
     "output_type": "display_data"
    },
    {
     "name": "stdout",
     "output_type": "stream",
     "text": [
      "[0]:0%\n",
      "[1]:0%\n",
      "[2]:0%\n",
      "[3]:100%\n",
      "[4]:0%\n",
      "[5]:0%\n",
      "[6]:0%\n",
      "[7]:0%\n",
      "[8]:0%\n",
      "[9]:0%\n"
     ]
    },
    {
     "data": {
      "image/png": "[encoded data removed]",
      "text/plain": [
       "<Figure size 432x288 with 1 Axes>"
      ]
     },
     "metadata": {
      "needs_background": "light"
     },
     "output_type": "display_data"
    },
    {
     "name": "stdout",
     "output_type": "stream",
     "text": [
      "[0]:0%\n",
      "[1]:0%\n",
      "[2]:0%\n",
      "[3]:0%\n",
      "[4]:99%\n",
      "[5]:0%\n",
      "[6]:0%\n",
      "[7]:0%\n",
      "[8]:0%\n",
      "[9]:0%\n"
     ]
    },
    {
     "data": {
      "image/png": "[encoded data removed]",
      "text/plain": [
       "<Figure size 432x288 with 1 Axes>"
      ]
     },
     "metadata": {
      "needs_background": "light"
     },
     "output_type": "display_data"
    },
    {
     "name": "stdout",
     "output_type": "stream",
     "text": [
      "[0]:0%\n",
      "[1]:37%\n",
      "[2]:0%\n",
      "[3]:0%\n",
      "[4]:53%\n",
      "[5]:0%\n",
      "[6]:5%\n",
      "[7]:1%\n",
      "[8]:0%\n",
      "[9]:0%\n"
     ]
    },
    {
     "data": {
      "image/png": "[encoded data removed]",
      "text/plain": [
       "<Figure size 432x288 with 1 Axes>"
      ]
     },
     "metadata": {
      "needs_background": "light"
     },
     "output_type": "display_data"
    },
    {
     "name": "stdout",
     "output_type": "stream",
     "text": [
      "[0]:0%\n",
      "[1]:18%\n",
      "[2]:0%\n",
      "[3]:0%\n",
      "[4]:49%\n",
      "[5]:1%\n",
      "[6]:0%\n",
      "[7]:14%\n",
      "[8]:3%\n",
      "[9]:10%\n"
     ]
    },
    {
     "data": {
      "image/png": "[encoded data removed]",
      "text/plain": [
       "<Figure size 432x288 with 1 Axes>"
      ]
     },
     "metadata": {
      "needs_background": "light"
     },
     "output_type": "display_data"
    }
   ],
   "source": [
    "import numpy as np\n",
    "import io\n",
    "import matplotlib.pyplot as plt\n",
    "%matplotlib inline\n",
    "from PIL import Image\n",
    "\n",
    "\n",
    "def onOSC_Image(*args):\n",
    "    width=args[1]\n",
    "    height=args[2]\n",
    "    jpgdata=args[3]\n",
    "    file_jpgdata = io.BytesIO(jpgdata)\n",
    "    img = Image.open(file_jpgdata).resize((28,28)).convert(\"L\")\n",
    "    img=255.0-np.array(img).astype(float)\n",
    "    x=PML.prepare_conv_samples([normalizer.Normalize(img)])[0]\n",
    "    plt.imshow(np.resize(x,(28,28)),cmap='gray')\n",
    "    res=model.predict(np.array([x]))[0]\n",
    "    for i,p in enumerate(res):\n",
    "        print(\"[{0}]:{1}%\".format(i,int(p*100)))\n",
    "    plt.title(\"Prediction:{0}\".format(np.argmax(res)))\n",
    "    plt.show()\n",
    "\n",
    "server.addMsgHandler( \"/inputs/image\", onOSC_Image )\n",
    "\n",
    "OSCHelper.start_server(server)\n"
   ]
  },
  {
   "cell_type": "code",
   "execution_count": 40,
   "metadata": {},
   "outputs": [],
   "source": [
    "server.close()\n"
   ]
  },
  {
   "cell_type": "code",
   "execution_count": null,
   "metadata": {},
   "outputs": [],
   "source": []
  }
 ],
 "metadata": {
  "kernelspec": {
   "display_name": "PML",
   "language": "python",
   "name": "pml"
  },
  "language_info": {
   "codemirror_mode": {
    "name": "ipython",
    "version": 3
   },
   "file_extension": ".py",
   "mimetype": "text/x-python",
   "name": "python",
   "nbconvert_exporter": "python",
   "pygments_lexer": "ipython3",
   "version": "3.6.7"
  }
 },
 "nbformat": 4,
 "nbformat_minor": 2
}
