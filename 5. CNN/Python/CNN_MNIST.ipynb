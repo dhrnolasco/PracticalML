{
 "cells": [
  {
   "cell_type": "markdown",
   "metadata": {},
   "source": [
    "## Hand Written Numbers Classifier using Convolutional Neural Networks (CNN)\n",
    "\n",
    "Another classification example to recognize hand written numbers. Trained using MNIST dataset.\n",
    "\n",
    "After training the model, you can use Sample_Sketching sketch in Processing to write numbers and see the results here."
   ]
  },
  {
   "cell_type": "code",
   "execution_count": null,
   "metadata": {},
   "outputs": [],
   "source": [
    "#install a required library to use OSC protocol\n",
    "!pip install https://github.com/attwad/python-osc/archive/master.zip\n",
    "!pip install matplotlib"
   ]
  },
  {
   "cell_type": "code",
   "execution_count": 15,
   "metadata": {},
   "outputs": [],
   "source": [
    "#setup training data. Here we using MNIST dataset for numbers\n",
    "# the training set is 28x28 input, and a number 0~9 as output\n",
    "\n",
    "from tensorflow.keras.datasets import mnist\n",
    "from tensorflow.keras import utils\n",
    "import numpy as np\n",
    "import PML\n",
    "\n",
    "#load data\n",
    "Train, Test = mnist.load_data()\n",
    "samples=list(zip(Train[0],Train[1]))\n",
    "sample_test=list(zip(Test[0],Test[1]))\n",
    "\n",
    "#Split to input X and labels Y\n",
    "X=np.array([i[0] for i in samples])\n",
    "Y=np.array([i[1] for i in samples])\n",
    " \n",
    "#Prepared to convolutional samples (3 channels per sample)\n",
    "X,normalizer=PML.normalize_image(X)\n",
    "x_train=PML.prepare_conv_samples(X)\n",
    "#normalize values\n",
    "nb_classes=10\n",
    "\n",
    "#convert numbers output to one-hot encoding\n",
    "y_train = utils.to_categorical(Train[1], nb_classes)\n",
    "y_test = utils.to_categorical(Test[1], nb_classes)"
   ]
  },
  {
   "cell_type": "code",
   "execution_count": 16,
   "metadata": {},
   "outputs": [
    {
     "data": {
      "image/png": "[encoded data removed]",
      "text/plain": [
       "<Figure size 720x432 with 15 Axes>"
      ]
     },
     "metadata": {
      "needs_background": "light"
     },
     "output_type": "display_data"
    }
   ],
   "source": [
    "PML.plot_random_images(samples,labels=[0,1,2,3,4,5,6,7,8,9],rows=3,cols=5)"
   ]
  },
  {
   "cell_type": "code",
   "execution_count": 17,
   "metadata": {},
   "outputs": [
    {
     "name": "stdout",
     "output_type": "stream",
     "text": [
      "Training using: 54000 samples\n",
      "Validating using: 6000 samples\n"
     ]
    }
   ],
   "source": [
    "from sklearn.model_selection import train_test_split\n",
    "\n",
    "X_train,X_test,Y_train,Y_test=train_test_split(x_train,y_train,test_size=0.1)\n",
    "\n",
    "print(\"Training using: {0} samples\".format(len(X_train)))\n",
    "print(\"Validating using: {0} samples\".format(len(X_test)))"
   ]
  },
  {
   "cell_type": "code",
   "execution_count": 19,
   "metadata": {
    "scrolled": false
   },
   "outputs": [
    {
     "name": "stdout",
     "output_type": "stream",
     "text": [
      "_________________________________________________________________\n",
      "Layer (type)                 Output Shape              Param #   \n",
      "=================================================================\n",
      "conv2d_12 (Conv2D)           (None, 26, 26, 32)        320       \n",
      "_________________________________________________________________\n",
      "max_pooling2d_11 (MaxPooling (None, 13, 13, 32)        0         \n",
      "_________________________________________________________________\n",
      "dropout_2 (Dropout)          (None, 13, 13, 32)        0         \n",
      "_________________________________________________________________\n",
      "conv2d_13 (Conv2D)           (None, 11, 11, 64)        18496     \n",
      "_________________________________________________________________\n",
      "max_pooling2d_12 (MaxPooling (None, 5, 5, 64)          0         \n",
      "_________________________________________________________________\n",
      "dropout_3 (Dropout)          (None, 5, 5, 64)          0         \n",
      "_________________________________________________________________\n",
      "flatten_3 (Flatten)          (None, 1600)              0         \n",
      "_________________________________________________________________\n",
      "dense_6 (Dense)              (None, 128)               204928    \n",
      "_________________________________________________________________\n",
      "dense_7 (Dense)              (None, 10)                1290      \n",
      "=================================================================\n",
      "Total params: 225,034\n",
      "Trainable params: 225,034\n",
      "Non-trainable params: 0\n",
      "_________________________________________________________________\n",
      "Train on 54000 samples, validate on 6000 samples\n",
      "Epoch 1/10\n",
      "54000/54000 [==============================] - 34s 625us/step - loss: 0.2613 - acc: 0.9209 - val_loss: 0.0766 - val_acc: 0.9752\n",
      "Epoch 2/10\n",
      "54000/54000 [==============================] - 35s 650us/step - loss: 0.0755 - acc: 0.9770 - val_loss: 0.0546 - val_acc: 0.9840\n",
      "Epoch 3/10\n",
      "54000/54000 [==============================] - 36s 659us/step - loss: 0.0544 - acc: 0.9830 - val_loss: 0.0418 - val_acc: 0.9868\n",
      "Epoch 4/10\n",
      "54000/54000 [==============================] - 35s 642us/step - loss: 0.0446 - acc: 0.9859 - val_loss: 0.0382 - val_acc: 0.9882\n",
      "Epoch 5/10\n",
      "54000/54000 [==============================] - 33s 610us/step - loss: 0.0374 - acc: 0.9880 - val_loss: 0.0323 - val_acc: 0.9908\n",
      "Epoch 6/10\n",
      "54000/54000 [==============================] - 34s 629us/step - loss: 0.0306 - acc: 0.9902 - val_loss: 0.0323 - val_acc: 0.9902\n",
      "Epoch 7/10\n",
      "54000/54000 [==============================] - 34s 632us/step - loss: 0.0270 - acc: 0.9914 - val_loss: 0.0287 - val_acc: 0.9913\n",
      "Epoch 8/10\n",
      "54000/54000 [==============================] - 37s 684us/step - loss: 0.0224 - acc: 0.9928 - val_loss: 0.0304 - val_acc: 0.9918\n",
      "Epoch 9/10\n",
      "54000/54000 [==============================] - 34s 635us/step - loss: 0.0223 - acc: 0.9925 - val_loss: 0.0304 - val_acc: 0.9908\n",
      "Epoch 10/10\n",
      "54000/54000 [==============================] - 34s 623us/step - loss: 0.0188 - acc: 0.9935 - val_loss: 0.0278 - val_acc: 0.9927\n"
     ]
    }
   ],
   "source": [
    "\n",
    "from tensorflow.keras.callbacks import TensorBoard\n",
    "from time import time\n",
    "\n",
    "tensorboard = TensorBoard(log_dir=\"logs/MNIST_{}\".format(time()))\n",
    "\n",
    "TrainModel=True #Set to False to load pretrained model\n",
    "\n",
    "\n",
    "model=PML.create_conv_classify_model(input_shape=(28,28,1),nbclasses=nb_classes,firstLayer=32,nlayers=[64],denseLayers=[128],dropout=0.2)\n",
    "history=model.fit(X_train,Y_train,validation_data=(X_test,Y_test),epochs=10,batch_size=128, callbacks=[tensorboard])\n"
   ]
  },
  {
   "cell_type": "code",
   "execution_count": 20,
   "metadata": {
    "scrolled": false
   },
   "outputs": [
    {
     "name": "stdout",
     "output_type": "stream",
     "text": [
      "Model exported.\n"
     ]
    },
    {
     "data": {
      "image/png": "[encoded data removed]",
      "text/plain": [
       "<Figure size 432x288 with 1 Axes>"
      ]
     },
     "metadata": {
      "needs_background": "light"
     },
     "output_type": "display_data"
    },
    {
     "data": {
      "image/png": "[encoded data removed]",
      "text/plain": [
       "<Figure size 432x288 with 1 Axes>"
      ]
     },
     "metadata": {
      "needs_background": "light"
     },
     "output_type": "display_data"
    }
   ],
   "source": [
    "PML.export_model(model,\"./models/mnist\")\n",
    "\n",
    "PML.plot_acc_loss(history)"
   ]
  },
  {
   "cell_type": "code",
   "execution_count": 21,
   "metadata": {},
   "outputs": [
    {
     "name": "stdout",
     "output_type": "stream",
     "text": [
      "Accuracy for [0] is 100%\n",
      "Accuracy for [1] is 100%\n",
      "Accuracy for [2] is 99%\n",
      "Accuracy for [3] is 100%\n",
      "Accuracy for [4] is 100%\n",
      "Accuracy for [5] is 99%\n",
      "Accuracy for [6] is 99%\n",
      "Accuracy for [7] is 100%\n",
      "Accuracy for [8] is 99%\n",
      "Accuracy for [9] is 99%\n"
     ]
    }
   ],
   "source": [
    "train_labels=[0,1,2,3,4,5,6,7,8,9]\n",
    "\n",
    "_=PML.test_samples(model,samples=sample_test,labels=train_labels,trainlabels=train_labels,normalizer=normalizer,flatten=False)"
   ]
  },
  {
   "cell_type": "markdown",
   "metadata": {},
   "source": [
    "### setup OSC Protocol to communicate with Processing"
   ]
  },
  {
   "cell_type": "code",
   "execution_count": 22,
   "metadata": {
    "scrolled": false
   },
   "outputs": [
    {
     "name": "stdout",
     "output_type": "stream",
     "text": [
      "Starting server on: 192.168.11.7:9000\n",
      "_________________________________________________________________\n",
      "Layer (type)                 Output Shape              Param #   \n",
      "=================================================================\n",
      "conv2d_12 (Conv2D)           (None, 26, 26, 32)        320       \n",
      "_________________________________________________________________\n",
      "max_pooling2d_11 (MaxPooling (None, 13, 13, 32)        0         \n",
      "_________________________________________________________________\n",
      "dropout_2 (Dropout)          (None, 13, 13, 32)        0         \n",
      "_________________________________________________________________\n",
      "conv2d_13 (Conv2D)           (None, 11, 11, 64)        18496     \n",
      "_________________________________________________________________\n",
      "max_pooling2d_12 (MaxPooling (None, 5, 5, 64)          0         \n",
      "_________________________________________________________________\n",
      "dropout_3 (Dropout)          (None, 5, 5, 64)          0         \n",
      "_________________________________________________________________\n",
      "flatten_3 (Flatten)          (None, 1600)              0         \n",
      "_________________________________________________________________\n",
      "dense_6 (Dense)              (None, 128)               204928    \n",
      "_________________________________________________________________\n",
      "dense_7 (Dense)              (None, 10)                1290      \n",
      "=================================================================\n",
      "Total params: 225,034\n",
      "Trainable params: 225,034\n",
      "Non-trainable params: 0\n",
      "_________________________________________________________________\n"
     ]
    }
   ],
   "source": [
    "\n",
    "import OSCHelper\n",
    "server=OSCHelper.createServer(9000)\n",
    "\n",
    "model=PML.import_model(\"./models/mnist\")\n",
    "model.summary()"
   ]
  },
  {
   "cell_type": "code",
   "execution_count": null,
   "metadata": {
    "scrolled": false
   },
   "outputs": [],
   "source": [
    "import numpy as np\n",
    "import io\n",
    "import matplotlib.pyplot as plt\n",
    "%matplotlib inline\n",
    "from PIL import Image\n",
    "\n",
    "\n",
    "def onOSC_Image(*args):\n",
    "    width=args[1]\n",
    "    height=args[2]\n",
    "    jpgdata=args[3]\n",
    "    file_jpgdata = io.BytesIO(jpgdata)\n",
    "    img = Image.open(file_jpgdata).resize((28,28)).convert(\"L\")\n",
    "    img=255.0-np.array(img).astype(float)\n",
    "    x=PML.prepare_conv_samples([normalizer.Normalize(img)])[0]\n",
    "    plt.imshow(np.resize(x,(28,28)),cmap='gray')\n",
    "    res=model.predict(np.array([x]))[0]\n",
    "    for i,p in enumerate(res):\n",
    "        print(\"[{0}]:{1}%\".format(i,int(p*100)))\n",
    "    plt.title(\"Prediction:{0}\".format(np.argmax(res)))\n",
    "    plt.show()\n",
    "\n",
    "server.addMsgHandler( \"/inputs/image\", onOSC_Image )\n",
    "\n",
    "OSCHelper.start_server(server)\n"
   ]
  },
  {
   "cell_type": "code",
   "execution_count": 40,
   "metadata": {},
   "outputs": [],
   "source": [
    "server.close()\n"
   ]
  },
  {
   "cell_type": "code",
   "execution_count": null,
   "metadata": {},
   "outputs": [],
   "source": []
  }
 ],
 "metadata": {
  "kernelspec": {
   "display_name": "PML",
   "language": "python",
   "name": "pml"
  },
  "language_info": {
   "codemirror_mode": {
    "name": "ipython",
    "version": 3
   },
   "file_extension": ".py",
   "mimetype": "text/x-python",
   "name": "python",
   "nbconvert_exporter": "python",
   "pygments_lexer": "ipython3",
   "version": "3.6.7"
  }
 },
 "nbformat": 4,
 "nbformat_minor": 2
}
