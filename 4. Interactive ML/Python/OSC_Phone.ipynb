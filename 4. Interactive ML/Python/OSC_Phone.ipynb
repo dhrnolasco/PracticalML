{
 "cells": [
  {
   "cell_type": "markdown",
   "metadata": {},
   "source": [
    "## Receive Sensor Data from Phone (or other OSC app)\n",
    "\n",
    "This notebook shows how to receive data from an OSC based application (such as [ZIG Simulator](https://zig-project.com)) to python, and export the data as CSV file that can be used as a dataset"
   ]
  },
  {
   "cell_type": "code",
   "execution_count": null,
   "metadata": {},
   "outputs": [],
   "source": [
    "!conda install pandas -y\n",
    "!pip install ipywidgets"
   ]
  },
  {
   "cell_type": "code",
   "execution_count": 17,
   "metadata": {
    "scrolled": false
   },
   "outputs": [
    {
     "name": "stdout",
     "output_type": "stream",
     "text": [
      "Starting server on: 192.168.11.7:50001\n",
      "Capturing samples for label: Walking\n",
      "Press Enter to start...\n"
     ]
    },
    {
     "data": {
      "application/vnd.jupyter.widget-view+json": {
       "model_id": "959a0916121648ff9351ffa0b4060f55",
       "version_major": 2,
       "version_minor": 0
      },
      "text/plain": [
       "IntProgress(value=0, max=1000)"
      ]
     },
     "metadata": {},
     "output_type": "display_data"
    },
    {
     "name": "stdout",
     "output_type": "stream",
     "text": [
      "done samples\n",
      "Capturing samples for label: Setting\n",
      "Press Enter to start...\n"
     ]
    },
    {
     "data": {
      "application/vnd.jupyter.widget-view+json": {
       "model_id": "f638b00af67c424484a26deb9e21e5c1",
       "version_major": 2,
       "version_minor": 0
      },
      "text/plain": [
       "IntProgress(value=0, max=1000)"
      ]
     },
     "metadata": {},
     "output_type": "display_data"
    },
    {
     "name": "stdout",
     "output_type": "stream",
     "text": [
      "done samples\n",
      "Capturing samples for label: Running\n",
      "Press Enter to start...\n"
     ]
    },
    {
     "data": {
      "application/vnd.jupyter.widget-view+json": {
       "model_id": "c866b07483c2432d81901ccda3b7576f",
       "version_major": 2,
       "version_minor": 0
      },
      "text/plain": [
       "IntProgress(value=0, max=1000)"
      ]
     },
     "metadata": {},
     "output_type": "display_data"
    },
    {
     "name": "stdout",
     "output_type": "stream",
     "text": [
      "done samples\n",
      "Capturing samples for label: Waving\n",
      "Press Enter to start...\n"
     ]
    },
    {
     "data": {
      "application/vnd.jupyter.widget-view+json": {
       "model_id": "a26f4acc4eb747edb642ad5a7114ea5e",
       "version_major": 2,
       "version_minor": 0
      },
      "text/plain": [
       "IntProgress(value=0, max=1000)"
      ]
     },
     "metadata": {},
     "output_type": "display_data"
    },
    {
     "name": "stdout",
     "output_type": "stream",
     "text": [
      "done samples\n",
      "Total samples count: 4000\n",
      "/Users/yamen/Documents/GitHub/PracticalML/4. Interactive ML/Python/datasets/data.csv\n"
     ]
    }
   ],
   "source": [
    "import numpy as np\n",
    "import io\n",
    "import PML\n",
    "import OSCHelper\n",
    "\n",
    "features_names=['accel','gyro','miclevel']\n",
    "labels=[\"Walking\",\"Setting\",\"Running\",\"Waving\"]\n",
    "\n",
    "server=OSCHelper.createServer(50001)\n",
    "\n",
    "samples=PML.CollectSamplesOSC(server,features_names,labels,UUID=\"Yamen\",nPerLabel=1000)\n",
    "PML.ExportOSCData(samples,features_names,\"datasets/data.csv\")\n",
    "server.close()"
   ]
  },
  {
   "cell_type": "markdown",
   "metadata": {},
   "source": [
    "## Example of how to load CSV data\n",
    "Here we will load the CSV file of data we just exported. This can be located in a different file"
   ]
  },
  {
   "cell_type": "code",
   "execution_count": 18,
   "metadata": {},
   "outputs": [
    {
     "name": "stdout",
     "output_type": "stream",
     "text": [
      "Cols of data loaded:\n",
      "['accel' 'gyro' 'miclevel' 'Label']\n",
      "Loaded Samples Count: 4000\n",
      "Features per Sample: 8\n",
      "Walking --> [-0.038625240325927734, 0.32864105701446533, 0.4190443158149719, -0.43285396695137024, 0.19468314945697784, 1.2163407802581787, -120.0, -120.0]\n"
     ]
    },
    {
     "name": "stderr",
     "output_type": "stream",
     "text": [
      "/anaconda3/envs/PML/lib/python3.6/site-packages/sklearn/preprocessing/label.py:219: DataConversionWarning: A column-vector y was passed when a 1d array was expected. Please change the shape of y to (n_samples, ), for example using ravel().\n",
      "  y = column_or_1d(y, warn=True)\n",
      "/anaconda3/envs/PML/lib/python3.6/site-packages/sklearn/preprocessing/label.py:252: DataConversionWarning: A column-vector y was passed when a 1d array was expected. Please change the shape of y to (n_samples, ), for example using ravel().\n",
      "  y = column_or_1d(y, warn=True)\n"
     ]
    }
   ],
   "source": [
    "import PML\n",
    "\n",
    "samples,labels=PML.load_csv_samples(\"datasets/data.csv\")#load csv data file\n",
    "print(\"Loaded Samples Count: {0}\".format(len(samples)))\n",
    "print(\"Features per Sample: {0}\".format(len(samples[0][0])))\n",
    "print(\"{0} --> {1}\".format(labels[samples[0][1]],samples[0][0]))"
   ]
  },
  {
   "cell_type": "markdown",
   "metadata": {},
   "source": [
    "## Prepare a Machine Learning Model\n",
    "\n",
    "Here is how we simply can convert the data points to be used by the learning model"
   ]
  },
  {
   "cell_type": "code",
   "execution_count": 22,
   "metadata": {},
   "outputs": [],
   "source": [
    "\n",
    "from tensorflow.keras import utils\n",
    "import random\n",
    "random.shuffle(samples)\n",
    "\n",
    "X=[x[0] for x in samples]\n",
    "Y=[x[1] for x in samples]\n",
    "x_dataset,norm=PML.normalize_mean_std(X)\n",
    "\n",
    "nb_classes=len(labels)\n",
    "y_dataset = utils.to_categorical(Y, nb_classes)"
   ]
  },
  {
   "cell_type": "code",
   "execution_count": 23,
   "metadata": {},
   "outputs": [
    {
     "name": "stdout",
     "output_type": "stream",
     "text": [
      "Training using: 3600 samples\n",
      "Validating using: 400 samples\n"
     ]
    }
   ],
   "source": [
    "from sklearn.model_selection import train_test_split\n",
    "\n",
    "X_train,X_test,Y_train,Y_test=train_test_split(x_dataset,y_dataset,test_size=0.1)\n",
    "\n",
    "print(\"Training using: {0} samples\".format(len(X_train)))\n",
    "print(\"Validating using: {0} samples\".format(len(X_test)))"
   ]
  },
  {
   "cell_type": "markdown",
   "metadata": {},
   "source": [
    "Create the model, and start fitting it with the train data"
   ]
  },
  {
   "cell_type": "code",
   "execution_count": 84,
   "metadata": {},
   "outputs": [
    {
     "name": "stdout",
     "output_type": "stream",
     "text": [
      "_________________________________________________________________\n",
      "Layer (type)                 Output Shape              Param #   \n",
      "=================================================================\n",
      "dense_16 (Dense)             (None, 32)                288       \n",
      "_________________________________________________________________\n",
      "dense_17 (Dense)             (None, 16)                528       \n",
      "_________________________________________________________________\n",
      "dense_18 (Dense)             (None, 8)                 136       \n",
      "_________________________________________________________________\n",
      "dense_19 (Dense)             (None, 4)                 36        \n",
      "=================================================================\n",
      "Total params: 988\n",
      "Trainable params: 988\n",
      "Non-trainable params: 0\n",
      "_________________________________________________________________\n",
      "Train on 3600 samples, validate on 400 samples\n",
      "Epoch 1/100\n",
      "3600/3600 [==============================] - 1s 169us/step - loss: 1.1340 - acc: 0.4872 - val_loss: 0.9316 - val_acc: 0.5725\n",
      "Epoch 2/100\n",
      "3600/3600 [==============================] - 0s 49us/step - loss: 0.7536 - acc: 0.6897 - val_loss: 0.6328 - val_acc: 0.8200\n",
      "Epoch 3/100\n",
      "3600/3600 [==============================] - 0s 45us/step - loss: 0.4649 - acc: 0.8647 - val_loss: 0.3966 - val_acc: 0.8850\n",
      "Epoch 4/100\n",
      "3600/3600 [==============================] - 0s 44us/step - loss: 0.3282 - acc: 0.8944 - val_loss: 0.3186 - val_acc: 0.8900\n",
      "Epoch 5/100\n",
      "3600/3600 [==============================] - 0s 47us/step - loss: 0.2716 - acc: 0.9081 - val_loss: 0.2684 - val_acc: 0.9225\n",
      "Epoch 6/100\n",
      "3600/3600 [==============================] - 0s 43us/step - loss: 0.2428 - acc: 0.9192 - val_loss: 0.2404 - val_acc: 0.9275\n",
      "Epoch 7/100\n",
      "3600/3600 [==============================] - 0s 43us/step - loss: 0.2165 - acc: 0.9286 - val_loss: 0.2175 - val_acc: 0.9350\n",
      "Epoch 8/100\n",
      "3600/3600 [==============================] - 0s 53us/step - loss: 0.1992 - acc: 0.9325 - val_loss: 0.1875 - val_acc: 0.9550\n",
      "Epoch 9/100\n",
      "3600/3600 [==============================] - 0s 48us/step - loss: 0.1816 - acc: 0.9392 - val_loss: 0.1778 - val_acc: 0.9600\n",
      "Epoch 10/100\n",
      "3600/3600 [==============================] - 0s 45us/step - loss: 0.1705 - acc: 0.9392 - val_loss: 0.1662 - val_acc: 0.9600\n",
      "Epoch 11/100\n",
      "3600/3600 [==============================] - 0s 44us/step - loss: 0.1561 - acc: 0.9475 - val_loss: 0.1565 - val_acc: 0.9625\n",
      "Epoch 12/100\n",
      "3600/3600 [==============================] - 0s 47us/step - loss: 0.1479 - acc: 0.9492 - val_loss: 0.1538 - val_acc: 0.9650\n",
      "Epoch 13/100\n",
      "3600/3600 [==============================] - 0s 48us/step - loss: 0.1374 - acc: 0.9531 - val_loss: 0.1531 - val_acc: 0.9600\n",
      "Epoch 14/100\n",
      "3600/3600 [==============================] - 0s 47us/step - loss: 0.1310 - acc: 0.9569 - val_loss: 0.1403 - val_acc: 0.9625\n",
      "Epoch 15/100\n",
      "3600/3600 [==============================] - 0s 54us/step - loss: 0.1264 - acc: 0.9550 - val_loss: 0.1397 - val_acc: 0.9600\n",
      "Epoch 16/100\n",
      "3600/3600 [==============================] - 0s 49us/step - loss: 0.1174 - acc: 0.9614 - val_loss: 0.1317 - val_acc: 0.9725\n",
      "Epoch 17/100\n",
      "3600/3600 [==============================] - 0s 51us/step - loss: 0.1141 - acc: 0.9636 - val_loss: 0.1228 - val_acc: 0.9700\n",
      "Epoch 18/100\n",
      "3600/3600 [==============================] - 0s 50us/step - loss: 0.1107 - acc: 0.9639 - val_loss: 0.1193 - val_acc: 0.9700\n",
      "Epoch 19/100\n",
      "3600/3600 [==============================] - 0s 44us/step - loss: 0.1047 - acc: 0.9703 - val_loss: 0.1242 - val_acc: 0.9700\n",
      "Epoch 20/100\n",
      "3600/3600 [==============================] - 0s 44us/step - loss: 0.1000 - acc: 0.9706 - val_loss: 0.1310 - val_acc: 0.9675\n",
      "Epoch 21/100\n",
      "3600/3600 [==============================] - 0s 45us/step - loss: 0.0985 - acc: 0.9703 - val_loss: 0.1175 - val_acc: 0.9750\n",
      "Epoch 22/100\n",
      "3600/3600 [==============================] - 0s 45us/step - loss: 0.0947 - acc: 0.9708 - val_loss: 0.1164 - val_acc: 0.9750\n",
      "Epoch 23/100\n",
      "3600/3600 [==============================] - 0s 45us/step - loss: 0.0907 - acc: 0.9758 - val_loss: 0.1243 - val_acc: 0.9775\n",
      "Epoch 24/100\n",
      "3600/3600 [==============================] - 0s 46us/step - loss: 0.0900 - acc: 0.9753 - val_loss: 0.1319 - val_acc: 0.9700\n",
      "Epoch 25/100\n",
      "3600/3600 [==============================] - 0s 43us/step - loss: 0.0878 - acc: 0.9744 - val_loss: 0.1146 - val_acc: 0.9750\n",
      "Epoch 26/100\n",
      "3600/3600 [==============================] - 0s 47us/step - loss: 0.0849 - acc: 0.9747 - val_loss: 0.1208 - val_acc: 0.9750\n",
      "Epoch 27/100\n",
      "3600/3600 [==============================] - 0s 64us/step - loss: 0.0816 - acc: 0.9769 - val_loss: 0.1183 - val_acc: 0.9750\n",
      "Epoch 28/100\n",
      "3600/3600 [==============================] - 0s 63us/step - loss: 0.0820 - acc: 0.9756 - val_loss: 0.1175 - val_acc: 0.9750\n",
      "Epoch 29/100\n",
      "3600/3600 [==============================] - 0s 49us/step - loss: 0.0794 - acc: 0.9761 - val_loss: 0.1216 - val_acc: 0.9700\n",
      "Epoch 30/100\n",
      "3600/3600 [==============================] - 0s 44us/step - loss: 0.0739 - acc: 0.9797 - val_loss: 0.1220 - val_acc: 0.9650\n",
      "Epoch 31/100\n",
      "3600/3600 [==============================] - 0s 44us/step - loss: 0.0778 - acc: 0.9778 - val_loss: 0.1081 - val_acc: 0.9775\n",
      "Epoch 32/100\n",
      "3600/3600 [==============================] - 0s 43us/step - loss: 0.0721 - acc: 0.9800 - val_loss: 0.1126 - val_acc: 0.9800\n",
      "Epoch 33/100\n",
      "3600/3600 [==============================] - 0s 43us/step - loss: 0.0702 - acc: 0.9803 - val_loss: 0.1206 - val_acc: 0.9775\n",
      "Epoch 34/100\n",
      "3600/3600 [==============================] - 0s 42us/step - loss: 0.0690 - acc: 0.9811 - val_loss: 0.1085 - val_acc: 0.9800\n",
      "Epoch 35/100\n",
      "3600/3600 [==============================] - 0s 50us/step - loss: 0.0678 - acc: 0.9778 - val_loss: 0.1106 - val_acc: 0.9825\n",
      "Epoch 36/100\n",
      "3600/3600 [==============================] - 0s 52us/step - loss: 0.0657 - acc: 0.9806 - val_loss: 0.1158 - val_acc: 0.9775\n",
      "Epoch 37/100\n",
      "3600/3600 [==============================] - 0s 49us/step - loss: 0.0626 - acc: 0.9819 - val_loss: 0.1106 - val_acc: 0.9825\n",
      "Epoch 38/100\n",
      "3600/3600 [==============================] - 0s 72us/step - loss: 0.0604 - acc: 0.9844 - val_loss: 0.1105 - val_acc: 0.9775\n",
      "Epoch 39/100\n",
      "3600/3600 [==============================] - 0s 61us/step - loss: 0.0605 - acc: 0.9825 - val_loss: 0.1073 - val_acc: 0.9800\n",
      "Epoch 40/100\n",
      "3600/3600 [==============================] - 0s 64us/step - loss: 0.0592 - acc: 0.9842 - val_loss: 0.1190 - val_acc: 0.9775\n",
      "Epoch 41/100\n",
      "3600/3600 [==============================] - 0s 48us/step - loss: 0.0586 - acc: 0.9844 - val_loss: 0.1103 - val_acc: 0.9775\n",
      "Epoch 42/100\n",
      "3600/3600 [==============================] - 0s 41us/step - loss: 0.0610 - acc: 0.9828 - val_loss: 0.1026 - val_acc: 0.9825\n",
      "Epoch 43/100\n",
      "3600/3600 [==============================] - 0s 40us/step - loss: 0.0589 - acc: 0.9836 - val_loss: 0.1020 - val_acc: 0.9800\n",
      "Epoch 44/100\n",
      "3600/3600 [==============================] - 0s 48us/step - loss: 0.0576 - acc: 0.9847 - val_loss: 0.1060 - val_acc: 0.9800\n",
      "Epoch 45/100\n",
      "3600/3600 [==============================] - 0s 50us/step - loss: 0.0569 - acc: 0.9833 - val_loss: 0.1082 - val_acc: 0.9825\n",
      "Epoch 46/100\n",
      "3600/3600 [==============================] - 0s 52us/step - loss: 0.0547 - acc: 0.9861 - val_loss: 0.1038 - val_acc: 0.9850\n",
      "Epoch 47/100\n",
      "3600/3600 [==============================] - 0s 50us/step - loss: 0.0557 - acc: 0.9842 - val_loss: 0.1018 - val_acc: 0.9850\n",
      "Epoch 48/100\n",
      "3600/3600 [==============================] - 0s 63us/step - loss: 0.0525 - acc: 0.9861 - val_loss: 0.1077 - val_acc: 0.9850\n",
      "Epoch 49/100\n",
      "3600/3600 [==============================] - 0s 55us/step - loss: 0.0533 - acc: 0.9850 - val_loss: 0.1139 - val_acc: 0.9825\n",
      "Epoch 50/100\n",
      "3600/3600 [==============================] - 0s 53us/step - loss: 0.0523 - acc: 0.9872 - val_loss: 0.1155 - val_acc: 0.9800\n",
      "Epoch 51/100\n",
      "3600/3600 [==============================] - 0s 48us/step - loss: 0.0530 - acc: 0.9850 - val_loss: 0.1021 - val_acc: 0.9850\n",
      "Epoch 52/100\n",
      "3600/3600 [==============================] - 0s 48us/step - loss: 0.0527 - acc: 0.9856 - val_loss: 0.1308 - val_acc: 0.9650\n",
      "Epoch 53/100\n",
      "3600/3600 [==============================] - 0s 42us/step - loss: 0.0507 - acc: 0.9878 - val_loss: 0.1037 - val_acc: 0.9850\n",
      "Epoch 54/100\n"
     ]
    },
    {
     "name": "stdout",
     "output_type": "stream",
     "text": [
      "3600/3600 [==============================] - 0s 46us/step - loss: 0.0517 - acc: 0.9867 - val_loss: 0.1041 - val_acc: 0.9800\n",
      "Epoch 55/100\n",
      "3600/3600 [==============================] - 0s 47us/step - loss: 0.0503 - acc: 0.9881 - val_loss: 0.1071 - val_acc: 0.9825\n",
      "Epoch 56/100\n",
      "3600/3600 [==============================] - 0s 46us/step - loss: 0.0514 - acc: 0.9881 - val_loss: 0.1145 - val_acc: 0.9750\n",
      "Epoch 57/100\n",
      "3600/3600 [==============================] - 0s 48us/step - loss: 0.0488 - acc: 0.9881 - val_loss: 0.0986 - val_acc: 0.9850\n",
      "Epoch 58/100\n",
      "3600/3600 [==============================] - 0s 48us/step - loss: 0.0482 - acc: 0.9869 - val_loss: 0.1048 - val_acc: 0.9800\n",
      "Epoch 59/100\n",
      "3600/3600 [==============================] - 0s 51us/step - loss: 0.0485 - acc: 0.9872 - val_loss: 0.1131 - val_acc: 0.9775\n",
      "Epoch 60/100\n",
      "3600/3600 [==============================] - 0s 58us/step - loss: 0.0487 - acc: 0.9881 - val_loss: 0.0983 - val_acc: 0.9850\n",
      "Epoch 61/100\n",
      "3600/3600 [==============================] - 0s 46us/step - loss: 0.0465 - acc: 0.9881 - val_loss: 0.1071 - val_acc: 0.9825\n",
      "Epoch 62/100\n",
      "3600/3600 [==============================] - 0s 48us/step - loss: 0.0463 - acc: 0.9892 - val_loss: 0.1083 - val_acc: 0.9775\n",
      "Epoch 63/100\n",
      "3600/3600 [==============================] - 0s 48us/step - loss: 0.0481 - acc: 0.9869 - val_loss: 0.1165 - val_acc: 0.9775\n",
      "Epoch 64/100\n",
      "3600/3600 [==============================] - 0s 53us/step - loss: 0.0458 - acc: 0.9872 - val_loss: 0.1119 - val_acc: 0.9825\n",
      "Epoch 65/100\n",
      "3600/3600 [==============================] - 0s 51us/step - loss: 0.0456 - acc: 0.9881 - val_loss: 0.1088 - val_acc: 0.9800\n",
      "Epoch 66/100\n",
      "3600/3600 [==============================] - 0s 47us/step - loss: 0.0458 - acc: 0.9894 - val_loss: 0.1173 - val_acc: 0.9775\n",
      "Epoch 67/100\n",
      "3600/3600 [==============================] - 0s 46us/step - loss: 0.0464 - acc: 0.9872 - val_loss: 0.1131 - val_acc: 0.9825\n",
      "Epoch 68/100\n",
      "3600/3600 [==============================] - 0s 48us/step - loss: 0.0439 - acc: 0.9889 - val_loss: 0.1127 - val_acc: 0.9725\n",
      "Epoch 69/100\n",
      "3600/3600 [==============================] - 0s 51us/step - loss: 0.0432 - acc: 0.9886 - val_loss: 0.1214 - val_acc: 0.9825\n",
      "Epoch 70/100\n",
      "3600/3600 [==============================] - 0s 53us/step - loss: 0.0426 - acc: 0.9878 - val_loss: 0.1301 - val_acc: 0.9725\n",
      "Epoch 71/100\n",
      "3600/3600 [==============================] - 0s 47us/step - loss: 0.0455 - acc: 0.9872 - val_loss: 0.1101 - val_acc: 0.9800\n",
      "Epoch 72/100\n",
      "3600/3600 [==============================] - 0s 50us/step - loss: 0.0453 - acc: 0.9886 - val_loss: 0.1176 - val_acc: 0.9725\n",
      "Epoch 73/100\n",
      "3600/3600 [==============================] - 0s 48us/step - loss: 0.0418 - acc: 0.9903 - val_loss: 0.1188 - val_acc: 0.9800\n",
      "Epoch 74/100\n",
      "3600/3600 [==============================] - 0s 51us/step - loss: 0.0442 - acc: 0.9872 - val_loss: 0.1187 - val_acc: 0.9775\n",
      "Epoch 75/100\n",
      "3600/3600 [==============================] - 0s 49us/step - loss: 0.0442 - acc: 0.9886 - val_loss: 0.1165 - val_acc: 0.9700\n",
      "Epoch 76/100\n",
      "3600/3600 [==============================] - 0s 48us/step - loss: 0.0403 - acc: 0.9903 - val_loss: 0.1121 - val_acc: 0.9825\n",
      "Epoch 77/100\n",
      "3600/3600 [==============================] - 0s 48us/step - loss: 0.0388 - acc: 0.9914 - val_loss: 0.1176 - val_acc: 0.9800\n",
      "Epoch 78/100\n",
      "3600/3600 [==============================] - 0s 47us/step - loss: 0.0401 - acc: 0.9892 - val_loss: 0.1101 - val_acc: 0.9775\n",
      "Epoch 79/100\n",
      "3600/3600 [==============================] - 0s 48us/step - loss: 0.0403 - acc: 0.9914 - val_loss: 0.1335 - val_acc: 0.9675\n",
      "Epoch 80/100\n",
      "3600/3600 [==============================] - 0s 50us/step - loss: 0.0421 - acc: 0.9889 - val_loss: 0.1173 - val_acc: 0.9825\n",
      "Epoch 81/100\n",
      "3600/3600 [==============================] - 0s 55us/step - loss: 0.0389 - acc: 0.9906 - val_loss: 0.1122 - val_acc: 0.9750\n",
      "Epoch 82/100\n",
      "3600/3600 [==============================] - 0s 49us/step - loss: 0.0395 - acc: 0.9906 - val_loss: 0.1070 - val_acc: 0.9825\n",
      "Epoch 83/100\n",
      "3600/3600 [==============================] - 0s 50us/step - loss: 0.0388 - acc: 0.9903 - val_loss: 0.1186 - val_acc: 0.9825\n",
      "Epoch 84/100\n",
      "3600/3600 [==============================] - 0s 50us/step - loss: 0.0377 - acc: 0.9911 - val_loss: 0.1237 - val_acc: 0.9775\n",
      "Epoch 85/100\n",
      "3600/3600 [==============================] - 0s 50us/step - loss: 0.0417 - acc: 0.9878 - val_loss: 0.1100 - val_acc: 0.9775\n",
      "Epoch 86/100\n",
      "3600/3600 [==============================] - 0s 52us/step - loss: 0.0372 - acc: 0.9897 - val_loss: 0.1251 - val_acc: 0.9725\n",
      "Epoch 87/100\n",
      "3600/3600 [==============================] - 0s 47us/step - loss: 0.0385 - acc: 0.9903 - val_loss: 0.1191 - val_acc: 0.9725\n",
      "Epoch 88/100\n",
      "3600/3600 [==============================] - 0s 44us/step - loss: 0.0363 - acc: 0.9917 - val_loss: 0.1283 - val_acc: 0.9700\n",
      "Epoch 89/100\n",
      "3600/3600 [==============================] - 0s 41us/step - loss: 0.0389 - acc: 0.9903 - val_loss: 0.1246 - val_acc: 0.9750\n",
      "Epoch 90/100\n",
      "3600/3600 [==============================] - 0s 42us/step - loss: 0.0362 - acc: 0.9900 - val_loss: 0.1204 - val_acc: 0.9750\n",
      "Epoch 91/100\n",
      "3600/3600 [==============================] - 0s 50us/step - loss: 0.0378 - acc: 0.9906 - val_loss: 0.1081 - val_acc: 0.9800\n",
      "Epoch 92/100\n",
      "3600/3600 [==============================] - 0s 49us/step - loss: 0.0363 - acc: 0.9911 - val_loss: 0.1184 - val_acc: 0.9825\n",
      "Epoch 93/100\n",
      "3600/3600 [==============================] - 0s 54us/step - loss: 0.0342 - acc: 0.9919 - val_loss: 0.1126 - val_acc: 0.9750\n",
      "Epoch 94/100\n",
      "3600/3600 [==============================] - 0s 54us/step - loss: 0.0348 - acc: 0.9903 - val_loss: 0.1066 - val_acc: 0.9775\n",
      "Epoch 95/100\n",
      "3600/3600 [==============================] - 0s 54us/step - loss: 0.0366 - acc: 0.9911 - val_loss: 0.1172 - val_acc: 0.9725\n",
      "Epoch 96/100\n",
      "3600/3600 [==============================] - 0s 51us/step - loss: 0.0334 - acc: 0.9917 - val_loss: 0.1219 - val_acc: 0.9825\n",
      "Epoch 97/100\n",
      "3600/3600 [==============================] - 0s 46us/step - loss: 0.0353 - acc: 0.9906 - val_loss: 0.1080 - val_acc: 0.9775\n",
      "Epoch 98/100\n",
      "3600/3600 [==============================] - 0s 44us/step - loss: 0.0356 - acc: 0.9906 - val_loss: 0.1287 - val_acc: 0.9725\n",
      "Epoch 99/100\n",
      "3600/3600 [==============================] - 0s 47us/step - loss: 0.0346 - acc: 0.9922 - val_loss: 0.1138 - val_acc: 0.9750\n",
      "Epoch 100/100\n",
      "3600/3600 [==============================] - 0s 49us/step - loss: 0.0324 - acc: 0.9919 - val_loss: 0.1180 - val_acc: 0.9725\n"
     ]
    }
   ],
   "source": [
    "\n",
    "model=PML.create_classify_model(X_train.shape[1],nb_classes,32,[16,8],dropout=0)\n",
    "history=model.fit(X_train,Y_train,validation_data=(X_test,Y_test),epochs=100,batch_size=32)\n"
   ]
  },
  {
   "cell_type": "code",
   "execution_count": 85,
   "metadata": {},
   "outputs": [
    {
     "data": {
      "image/png": "[encoded data removed]",
      "text/plain": [
       "<Figure size 432x288 with 1 Axes>"
      ]
     },
     "metadata": {
      "needs_background": "light"
     },
     "output_type": "display_data"
    },
    {
     "data": {
      "image/png": "[encoded data removed]",
      "text/plain": [
       "<Figure size 432x288 with 1 Axes>"
      ]
     },
     "metadata": {
      "needs_background": "light"
     },
     "output_type": "display_data"
    }
   ],
   "source": [
    "PML.plot_acc_loss(history)"
   ]
  },
  {
   "cell_type": "code",
   "execution_count": null,
   "metadata": {
    "scrolled": true
   },
   "outputs": [],
   "source": [
    "#setup OSC Protocol to communicate with Processing\n",
    "import OSCHelper\n",
    "from collections import deque #Deque is a Queue\n",
    "from collections import Counter #This helps to count frequency of samples\n",
    "\n",
    "server=OSCHelper.createServer(50003)\n",
    "client=OSCHelper.createClient(4200)\n",
    "\n",
    "features_names=['accel','gyro','miclevel']\n",
    "sample=[]\n",
    "\n",
    "WINDOW_SIZE=60\n",
    "buffer=deque(maxlen=WINDOW_SIZE)\n",
    "\n",
    "def reset_sample():\n",
    "    global sample\n",
    "    global features_names\n",
    "    sample=[]\n",
    "    for i in features_names:\n",
    "        sample.append(\"\")\n",
    "        \n",
    "def process_sample(x):\n",
    "    sample=[]\n",
    "    for i in range(len(x)):\n",
    "        sample.extend(x[i].split(','))\n",
    "    for i in range(len(sample)):\n",
    "        sample[i]=float(sample[i])\n",
    "        \n",
    "    sample=norm.Normalize(sample)\n",
    "    return sample\n",
    "        \n",
    "def onOSC_data(*args):\n",
    "    global sample\n",
    "    global features_names\n",
    "    dtype=str(args[0]).split('/')[-1]\n",
    "    vals=list(args[1:])\n",
    "    index=-1\n",
    "    for i,f in enumerate(features_names):\n",
    "        if dtype==f:\n",
    "            index=i\n",
    "    if(index!=-1):\n",
    "        sample[index]=','.join([str(x) for x in vals])\n",
    "\n",
    "    if dtype=='deviceinfo':\n",
    "        processed_sample=process_sample(sample)\n",
    "        res=model.predict(np.array([processed_sample]))[0]\n",
    "        index=np.argmax(res)\n",
    "        result=(labels[index])\n",
    "        \n",
    "        buffer.append(result)\n",
    "        freq=Counter(buffer)\n",
    "        \n",
    "        client.send_message(\"/output/label\",[int(index),str(result)])\n",
    "        reset_sample()\n",
    "\n",
    "\n",
    "reset_sample()\n",
    "        \n",
    "server.addMsgHandler(\"/ZIGSIM/Yamen/*\", onOSC_data )\n",
    "OSCHelper.start_server(server)\n",
    "server.removeMsgHandler(\"/ZIGSIM/Yamen/*\")"
   ]
  },
  {
   "cell_type": "code",
   "execution_count": 94,
   "metadata": {},
   "outputs": [],
   "source": [
    "server.close()"
   ]
  },
  {
   "cell_type": "code",
   "execution_count": null,
   "metadata": {},
   "outputs": [],
   "source": []
  }
 ],
 "metadata": {
  "kernelspec": {
   "display_name": "PML",
   "language": "python",
   "name": "pml"
  },
  "language_info": {
   "codemirror_mode": {
    "name": "ipython",
    "version": 3
   },
   "file_extension": ".py",
   "mimetype": "text/x-python",
   "name": "python",
   "nbconvert_exporter": "python",
   "pygments_lexer": "ipython3",
   "version": "3.6.7"
  }
 },
 "nbformat": 4,
 "nbformat_minor": 2
}
